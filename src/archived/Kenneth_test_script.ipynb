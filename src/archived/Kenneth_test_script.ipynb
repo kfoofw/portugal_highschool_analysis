{
 "cells": [
  {
   "cell_type": "code",
   "execution_count": 1,
   "metadata": {},
   "outputs": [],
   "source": [
    "# \n",
    "import numpy as np\n",
    "import pandas as pd\n",
    "\n",
    "# Preprocessing\n",
    "from sklearn.preprocessing import StandardScaler, OneHotEncoder\n",
    "from sklearn.model_selection import train_test_split\n",
    "from sklearn.compose import ColumnTransformer\n",
    "\n",
    "# Cross validation\n",
    "from sklearn.model_selection import cross_validate\n",
    "\n",
    "# Bayes opt\n",
    "from bayes_opt import BayesianOptimization\n",
    "\n",
    "# Linear Regression with Lasso\n",
    "from sklearn.linear_model import Lasso\n",
    "# Linear Regression with L2\n",
    "from sklearn.linear_model import Ridge\n",
    "# Random Forest\n",
    "from sklearn.ensemble import RandomForestRegressor\n",
    "# XGBoost\n",
    "import xgboost as xgb\n",
    "# LightGBM\n",
    "import lightgbm as lgbm\n",
    "\n",
    "# Scoring\n",
    "from sklearn.metrics import mean_squared_error\n",
    "\n",
    "# Plotting\n",
    "import altair as alt"
   ]
  },
  {
   "cell_type": "code",
   "execution_count": 2,
   "metadata": {},
   "outputs": [
    {
     "name": "stdout",
     "output_type": "stream",
     "text": [
      "numpy:1.16.4\n",
      "pandas:0.24.2\n",
      "sklearn:0.22.1\n",
      "xgb:0.90\n",
      "lgbm:2.3.1\n",
      "altair:3.2.0\n"
     ]
    }
   ],
   "source": [
    "# Versions of packages\n",
    "import sklearn \n",
    "import bayes_opt\n",
    "import altair\n",
    "print(\"numpy:\"+np.__version__)\n",
    "print(\"pandas:\"+pd.__version__)\n",
    "print(\"sklearn:\"+sklearn.__version__)\n",
    "# print(bayes_opt.__version__)\n",
    "print(\"xgb:\"+xgb.__version__)\n",
    "print(\"lgbm:\"+lgbm.__version__)\n",
    "print(\"altair:\"+alt.__version__)\n"
   ]
  },
  {
   "cell_type": "code",
   "execution_count": 3,
   "metadata": {},
   "outputs": [],
   "source": [
    "# bayesian-optimization package version 1.0.1"
   ]
  },
  {
   "cell_type": "code",
   "execution_count": 19,
   "metadata": {},
   "outputs": [],
   "source": [
    "train_data  = pd.read_csv(\"../data/processed/train.csv\")"
   ]
  },
  {
   "cell_type": "code",
   "execution_count": 20,
   "metadata": {},
   "outputs": [
    {
     "data": {
      "text/html": [
       "<div>\n",
       "<style scoped>\n",
       "    .dataframe tbody tr th:only-of-type {\n",
       "        vertical-align: middle;\n",
       "    }\n",
       "\n",
       "    .dataframe tbody tr th {\n",
       "        vertical-align: top;\n",
       "    }\n",
       "\n",
       "    .dataframe thead th {\n",
       "        text-align: right;\n",
       "    }\n",
       "</style>\n",
       "<table border=\"1\" class=\"dataframe\">\n",
       "  <thead>\n",
       "    <tr style=\"text-align: right;\">\n",
       "      <th></th>\n",
       "      <th>school</th>\n",
       "      <th>sex</th>\n",
       "      <th>age</th>\n",
       "      <th>address</th>\n",
       "      <th>famsize</th>\n",
       "      <th>Pstatus</th>\n",
       "      <th>Medu</th>\n",
       "      <th>Fedu</th>\n",
       "      <th>Mjob</th>\n",
       "      <th>Fjob</th>\n",
       "      <th>...</th>\n",
       "      <th>internet</th>\n",
       "      <th>romantic</th>\n",
       "      <th>famrel</th>\n",
       "      <th>freetime</th>\n",
       "      <th>goout</th>\n",
       "      <th>Dalc</th>\n",
       "      <th>Walc</th>\n",
       "      <th>health</th>\n",
       "      <th>absences</th>\n",
       "      <th>G3</th>\n",
       "    </tr>\n",
       "  </thead>\n",
       "  <tbody>\n",
       "    <tr>\n",
       "      <th>0</th>\n",
       "      <td>GP</td>\n",
       "      <td>F</td>\n",
       "      <td>18</td>\n",
       "      <td>U</td>\n",
       "      <td>GT3</td>\n",
       "      <td>A</td>\n",
       "      <td>4</td>\n",
       "      <td>4</td>\n",
       "      <td>at_home</td>\n",
       "      <td>teacher</td>\n",
       "      <td>...</td>\n",
       "      <td>no</td>\n",
       "      <td>no</td>\n",
       "      <td>4</td>\n",
       "      <td>3</td>\n",
       "      <td>4</td>\n",
       "      <td>1</td>\n",
       "      <td>1</td>\n",
       "      <td>3</td>\n",
       "      <td>4</td>\n",
       "      <td>11</td>\n",
       "    </tr>\n",
       "    <tr>\n",
       "      <th>1</th>\n",
       "      <td>GP</td>\n",
       "      <td>F</td>\n",
       "      <td>17</td>\n",
       "      <td>U</td>\n",
       "      <td>GT3</td>\n",
       "      <td>T</td>\n",
       "      <td>1</td>\n",
       "      <td>1</td>\n",
       "      <td>at_home</td>\n",
       "      <td>other</td>\n",
       "      <td>...</td>\n",
       "      <td>yes</td>\n",
       "      <td>no</td>\n",
       "      <td>5</td>\n",
       "      <td>3</td>\n",
       "      <td>3</td>\n",
       "      <td>1</td>\n",
       "      <td>1</td>\n",
       "      <td>3</td>\n",
       "      <td>2</td>\n",
       "      <td>11</td>\n",
       "    </tr>\n",
       "    <tr>\n",
       "      <th>2</th>\n",
       "      <td>GP</td>\n",
       "      <td>F</td>\n",
       "      <td>15</td>\n",
       "      <td>U</td>\n",
       "      <td>GT3</td>\n",
       "      <td>T</td>\n",
       "      <td>4</td>\n",
       "      <td>2</td>\n",
       "      <td>health</td>\n",
       "      <td>services</td>\n",
       "      <td>...</td>\n",
       "      <td>yes</td>\n",
       "      <td>yes</td>\n",
       "      <td>3</td>\n",
       "      <td>2</td>\n",
       "      <td>2</td>\n",
       "      <td>1</td>\n",
       "      <td>1</td>\n",
       "      <td>5</td>\n",
       "      <td>0</td>\n",
       "      <td>14</td>\n",
       "    </tr>\n",
       "    <tr>\n",
       "      <th>3</th>\n",
       "      <td>GP</td>\n",
       "      <td>F</td>\n",
       "      <td>16</td>\n",
       "      <td>U</td>\n",
       "      <td>GT3</td>\n",
       "      <td>T</td>\n",
       "      <td>3</td>\n",
       "      <td>3</td>\n",
       "      <td>other</td>\n",
       "      <td>other</td>\n",
       "      <td>...</td>\n",
       "      <td>no</td>\n",
       "      <td>no</td>\n",
       "      <td>4</td>\n",
       "      <td>3</td>\n",
       "      <td>2</td>\n",
       "      <td>1</td>\n",
       "      <td>2</td>\n",
       "      <td>5</td>\n",
       "      <td>0</td>\n",
       "      <td>13</td>\n",
       "    </tr>\n",
       "    <tr>\n",
       "      <th>4</th>\n",
       "      <td>GP</td>\n",
       "      <td>M</td>\n",
       "      <td>16</td>\n",
       "      <td>U</td>\n",
       "      <td>LE3</td>\n",
       "      <td>T</td>\n",
       "      <td>4</td>\n",
       "      <td>3</td>\n",
       "      <td>services</td>\n",
       "      <td>other</td>\n",
       "      <td>...</td>\n",
       "      <td>yes</td>\n",
       "      <td>no</td>\n",
       "      <td>5</td>\n",
       "      <td>4</td>\n",
       "      <td>2</td>\n",
       "      <td>1</td>\n",
       "      <td>2</td>\n",
       "      <td>5</td>\n",
       "      <td>6</td>\n",
       "      <td>13</td>\n",
       "    </tr>\n",
       "  </tbody>\n",
       "</table>\n",
       "<p>5 rows × 31 columns</p>\n",
       "</div>"
      ],
      "text/plain": [
       "  school sex  age address famsize Pstatus  Medu  Fedu      Mjob      Fjob  \\\n",
       "0     GP   F   18       U     GT3       A     4     4   at_home   teacher   \n",
       "1     GP   F   17       U     GT3       T     1     1   at_home     other   \n",
       "2     GP   F   15       U     GT3       T     4     2    health  services   \n",
       "3     GP   F   16       U     GT3       T     3     3     other     other   \n",
       "4     GP   M   16       U     LE3       T     4     3  services     other   \n",
       "\n",
       "   ... internet romantic  famrel  freetime  goout Dalc Walc health absences  \\\n",
       "0  ...       no       no       4         3      4    1    1      3        4   \n",
       "1  ...      yes       no       5         3      3    1    1      3        2   \n",
       "2  ...      yes      yes       3         2      2    1    1      5        0   \n",
       "3  ...       no       no       4         3      2    1    2      5        0   \n",
       "4  ...      yes       no       5         4      2    1    2      5        6   \n",
       "\n",
       "   G3  \n",
       "0  11  \n",
       "1  11  \n",
       "2  14  \n",
       "3  13  \n",
       "4  13  \n",
       "\n",
       "[5 rows x 31 columns]"
      ]
     },
     "execution_count": 20,
     "metadata": {},
     "output_type": "execute_result"
    }
   ],
   "source": [
    "train_data.head()"
   ]
  },
  {
   "cell_type": "code",
   "execution_count": 22,
   "metadata": {},
   "outputs": [],
   "source": [
    "# X_train = train_data.drop([\"G3\", \"G2\", \"G1\"], axis = 1)\n",
    "X_train = train_data.drop([\"G3\"], axis = 1)\n",
    "y_train = train_data[\"G3\"]"
   ]
  },
  {
   "cell_type": "code",
   "execution_count": 23,
   "metadata": {},
   "outputs": [
    {
     "data": {
      "text/plain": [
       "Index(['school', 'sex', 'age', 'address', 'famsize', 'Pstatus', 'Medu', 'Fedu',\n",
       "       'Mjob', 'Fjob', 'reason', 'guardian', 'traveltime', 'studytime',\n",
       "       'failures', 'schoolsup', 'famsup', 'paid', 'activities', 'nursery',\n",
       "       'higher', 'internet', 'romantic', 'famrel', 'freetime', 'goout', 'Dalc',\n",
       "       'Walc', 'health', 'absences'],\n",
       "      dtype='object')"
      ]
     },
     "execution_count": 23,
     "metadata": {},
     "output_type": "execute_result"
    }
   ],
   "source": [
    "X_train.columns"
   ]
  },
  {
   "cell_type": "code",
   "execution_count": 24,
   "metadata": {},
   "outputs": [],
   "source": [
    "# Identify numerical vs categorical features\n",
    "categorical_features = X_train.loc[:,(\"school\",\"sex\", \"address\", \"famsize\", \"Pstatus\", \"Mjob\", \"Fjob\", \"reason\", \n",
    "                                  \"guardian\",\"schoolsup\", \"famsup\", \"paid\",\"activities\",\"nursery\", \"higher\", \n",
    "                                  \"internet\",\"romantic\")].columns\n",
    "\n",
    "numeric_features = X_train.loc[:,(\"age\", \"Medu\", \"Fedu\", \"traveltime\", \"studytime\", \"failures\", \"famrel\", \n",
    "                                    \"freetime\", \"goout\", \"Dalc\", \"Walc\", \"health\", \"absences\")].columns\n"
   ]
  },
  {
   "cell_type": "code",
   "execution_count": 25,
   "metadata": {},
   "outputs": [
    {
     "data": {
      "text/plain": [
       "Index(['school', 'sex', 'address', 'famsize', 'Pstatus', 'Mjob', 'Fjob',\n",
       "       'reason', 'guardian', 'schoolsup', 'famsup', 'paid', 'activities',\n",
       "       'nursery', 'higher', 'internet', 'romantic'],\n",
       "      dtype='object')"
      ]
     },
     "execution_count": 25,
     "metadata": {},
     "output_type": "execute_result"
    }
   ],
   "source": [
    "categorical_features"
   ]
  },
  {
   "cell_type": "code",
   "execution_count": 26,
   "metadata": {},
   "outputs": [
    {
     "data": {
      "text/plain": [
       "Index(['age', 'Medu', 'Fedu', 'traveltime', 'studytime', 'failures', 'famrel',\n",
       "       'freetime', 'goout', 'Dalc', 'Walc', 'health', 'absences'],\n",
       "      dtype='object')"
      ]
     },
     "execution_count": 26,
     "metadata": {},
     "output_type": "execute_result"
    }
   ],
   "source": [
    "numeric_features"
   ]
  },
  {
   "cell_type": "code",
   "execution_count": 27,
   "metadata": {},
   "outputs": [],
   "source": [
    "# Create preprocessor\n",
    "preprocessor = ColumnTransformer(\n",
    "    transformers=[\n",
    "        ('num', StandardScaler(), numeric_features),\n",
    "        ('ohe', OneHotEncoder(drop = \"first\"), categorical_features)\n",
    "    ])"
   ]
  },
  {
   "cell_type": "code",
   "execution_count": 28,
   "metadata": {},
   "outputs": [],
   "source": [
    "# Convert to dataframe\n",
    "X_train_trans = pd.DataFrame(preprocessor.fit_transform(X_train),\n",
    "                            index = X_train.index,\n",
    "                             columns = (list(numeric_features) +\n",
    "                                       list(preprocessor.named_transformers_['ohe'].get_feature_names(categorical_features))))"
   ]
  },
  {
   "cell_type": "markdown",
   "metadata": {},
   "source": [
    "# Linear Model Ridge"
   ]
  },
  {
   "cell_type": "code",
   "execution_count": 38,
   "metadata": {},
   "outputs": [],
   "source": [
    "lmridge_params = {'alpha':(0,100)}\n",
    "\n",
    "def cv_mse_lmridge(alpha):\n",
    "    \"\"\" \n",
    "    Performs cross validation for LM regressor with Ridge regression. To be used for Bayesian optimiser maximizer function.\n",
    "    \n",
    "    Parameters\n",
    "    ----------\n",
    "    alpha : float\n",
    "        L2 regularisation constant\n",
    "\n",
    "    Returns\n",
    "    -------\n",
    "    float\n",
    "        Cross validation score based on negative mean squared error.\n",
    "        \n",
    "    \"\"\"\n",
    "    estimator = Ridge(alpha)\n",
    "\n",
    "    # Note that scoring is neg_mean_squared_error, which means higher the score, the better the model\n",
    "    return cross_validate(estimator, X_train_trans, y_train, cv = 10, scoring = \"neg_root_mean_squared_error\")[\"test_score\"].mean()"
   ]
  },
  {
   "cell_type": "code",
   "execution_count": 42,
   "metadata": {},
   "outputs": [
    {
     "name": "stdout",
     "output_type": "stream",
     "text": [
      "|   iter    |  target   |   alpha   |\n",
      "-------------------------------------\n",
      "| \u001b[0m 1       \u001b[0m | \u001b[0m-2.736   \u001b[0m | \u001b[0m 41.7    \u001b[0m |\n",
      "| \u001b[95m 2       \u001b[0m | \u001b[95m-2.735   \u001b[0m | \u001b[95m 72.03   \u001b[0m |\n",
      "| \u001b[0m 3       \u001b[0m | \u001b[0m-2.77    \u001b[0m | \u001b[0m 0.01144 \u001b[0m |\n",
      "| \u001b[0m 4       \u001b[0m | \u001b[0m-2.738   \u001b[0m | \u001b[0m 30.23   \u001b[0m |\n",
      "| \u001b[0m 5       \u001b[0m | \u001b[0m-2.745   \u001b[0m | \u001b[0m 14.68   \u001b[0m |\n",
      "| \u001b[0m 6       \u001b[0m | \u001b[0m-2.737   \u001b[0m | \u001b[0m 100.0   \u001b[0m |\n",
      "| \u001b[0m 7       \u001b[0m | \u001b[0m-2.736   \u001b[0m | \u001b[0m 86.29   \u001b[0m |\n",
      "| \u001b[95m 8       \u001b[0m | \u001b[95m-2.735   \u001b[0m | \u001b[95m 58.16   \u001b[0m |\n",
      "| \u001b[0m 9       \u001b[0m | \u001b[0m-2.735   \u001b[0m | \u001b[0m 63.12   \u001b[0m |\n",
      "| \u001b[0m 10      \u001b[0m | \u001b[0m-2.735   \u001b[0m | \u001b[0m 52.72   \u001b[0m |\n",
      "| \u001b[0m 11      \u001b[0m | \u001b[0m-2.735   \u001b[0m | \u001b[0m 72.93   \u001b[0m |\n",
      "| \u001b[95m 12      \u001b[0m | \u001b[95m-2.735   \u001b[0m | \u001b[95m 62.31   \u001b[0m |\n",
      "| \u001b[0m 13      \u001b[0m | \u001b[0m-2.735   \u001b[0m | \u001b[0m 51.52   \u001b[0m |\n",
      "| \u001b[0m 14      \u001b[0m | \u001b[0m-2.736   \u001b[0m | \u001b[0m 78.52   \u001b[0m |\n",
      "| \u001b[0m 15      \u001b[0m | \u001b[0m-2.735   \u001b[0m | \u001b[0m 64.61   \u001b[0m |\n",
      "| \u001b[0m 16      \u001b[0m | \u001b[0m-2.735   \u001b[0m | \u001b[0m 55.51   \u001b[0m |\n",
      "| \u001b[0m 17      \u001b[0m | \u001b[0m-2.735   \u001b[0m | \u001b[0m 66.56   \u001b[0m |\n",
      "| \u001b[0m 18      \u001b[0m | \u001b[0m-2.735   \u001b[0m | \u001b[0m 48.22   \u001b[0m |\n",
      "| \u001b[0m 19      \u001b[0m | \u001b[0m-2.735   \u001b[0m | \u001b[0m 62.92   \u001b[0m |\n",
      "| \u001b[0m 20      \u001b[0m | \u001b[0m-2.735   \u001b[0m | \u001b[0m 70.23   \u001b[0m |\n",
      "| \u001b[0m 21      \u001b[0m | \u001b[0m-2.735   \u001b[0m | \u001b[0m 58.19   \u001b[0m |\n",
      "| \u001b[0m 22      \u001b[0m | \u001b[0m-2.736   \u001b[0m | \u001b[0m 84.42   \u001b[0m |\n",
      "| \u001b[0m 23      \u001b[0m | \u001b[0m-2.735   \u001b[0m | \u001b[0m 57.69   \u001b[0m |\n",
      "| \u001b[0m 24      \u001b[0m | \u001b[0m-2.735   \u001b[0m | \u001b[0m 67.56   \u001b[0m |\n",
      "| \u001b[0m 25      \u001b[0m | \u001b[0m-2.735   \u001b[0m | \u001b[0m 46.71   \u001b[0m |\n",
      "=====================================\n"
     ]
    }
   ],
   "source": [
    "optimizer_lmridge = BayesianOptimization(cv_mse_lmridge, lmridge_params, random_state = 1, verbose = 2)\n",
    "optimizer_lmridge.maximize(n_iter = 20)"
   ]
  },
  {
   "cell_type": "code",
   "execution_count": 162,
   "metadata": {},
   "outputs": [
    {
     "data": {
      "text/plain": [
       "{'target': -2.735039423513031, 'params': {'alpha': 60.261882871617445}}"
      ]
     },
     "execution_count": 162,
     "metadata": {},
     "output_type": "execute_result"
    }
   ],
   "source": [
    "optimizer_lmridge.max"
   ]
  },
  {
   "cell_type": "markdown",
   "metadata": {},
   "source": [
    "# Linear Model Lasso"
   ]
  },
  {
   "cell_type": "code",
   "execution_count": 46,
   "metadata": {},
   "outputs": [],
   "source": [
    "lmlasso_params = {'alpha':(0.01,100)}\n",
    "\n",
    "def cv_mse_lmlasso(alpha):\n",
    "    \"\"\" \n",
    "    Performs cross validation for LM regressor with Lasso regression. To be used for Bayesian optimiser maximizer function.\n",
    "    \n",
    "    Parameters\n",
    "    ----------\n",
    "    alpha : float\n",
    "        L1 regularisation constant\n",
    "\n",
    "    Returns\n",
    "    -------\n",
    "    float\n",
    "        Cross validation score based on negative mean squared error.\n",
    "        \n",
    "    \"\"\"\n",
    "    estimator = Lasso(alpha)\n",
    "\n",
    "    # Note that scoring is neg_mean_squared_error, which means higher the score, the better the model\n",
    "    return cross_validate(estimator, X_train_trans, y_train, cv = 10, scoring = \"neg_root_mean_squared_error\")[\"test_score\"].mean()"
   ]
  },
  {
   "cell_type": "code",
   "execution_count": 47,
   "metadata": {},
   "outputs": [
    {
     "name": "stdout",
     "output_type": "stream",
     "text": [
      "|   iter    |  target   |   alpha   |\n",
      "-------------------------------------\n",
      "| \u001b[0m 1       \u001b[0m | \u001b[0m-3.2     \u001b[0m | \u001b[0m 41.71   \u001b[0m |\n",
      "| \u001b[0m 2       \u001b[0m | \u001b[0m-3.2     \u001b[0m | \u001b[0m 72.04   \u001b[0m |\n",
      "| \u001b[95m 3       \u001b[0m | \u001b[95m-2.731   \u001b[0m | \u001b[95m 0.02144 \u001b[0m |\n",
      "| \u001b[0m 4       \u001b[0m | \u001b[0m-3.2     \u001b[0m | \u001b[0m 30.24   \u001b[0m |\n",
      "| \u001b[0m 5       \u001b[0m | \u001b[0m-3.2     \u001b[0m | \u001b[0m 14.68   \u001b[0m |\n",
      "| \u001b[0m 6       \u001b[0m | \u001b[0m-3.2     \u001b[0m | \u001b[0m 100.0   \u001b[0m |\n",
      "| \u001b[0m 7       \u001b[0m | \u001b[0m-2.744   \u001b[0m | \u001b[0m 0.01    \u001b[0m |\n",
      "| \u001b[0m 8       \u001b[0m | \u001b[0m-3.2     \u001b[0m | \u001b[0m 1.969   \u001b[0m |\n",
      "| \u001b[0m 9       \u001b[0m | \u001b[0m-3.2     \u001b[0m | \u001b[0m 56.88   \u001b[0m |\n",
      "| \u001b[0m 10      \u001b[0m | \u001b[0m-3.2     \u001b[0m | \u001b[0m 86.02   \u001b[0m |\n",
      "| \u001b[0m 11      \u001b[0m | \u001b[0m-3.2     \u001b[0m | \u001b[0m 22.46   \u001b[0m |\n",
      "| \u001b[0m 12      \u001b[0m | \u001b[0m-3.2     \u001b[0m | \u001b[0m 49.29   \u001b[0m |\n",
      "| \u001b[0m 13      \u001b[0m | \u001b[0m-3.2     \u001b[0m | \u001b[0m 64.46   \u001b[0m |\n",
      "| \u001b[0m 14      \u001b[0m | \u001b[0m-3.2     \u001b[0m | \u001b[0m 93.01   \u001b[0m |\n",
      "| \u001b[0m 15      \u001b[0m | \u001b[0m-3.2     \u001b[0m | \u001b[0m 79.03   \u001b[0m |\n",
      "| \u001b[0m 16      \u001b[0m | \u001b[0m-3.2     \u001b[0m | \u001b[0m 8.788   \u001b[0m |\n",
      "| \u001b[0m 17      \u001b[0m | \u001b[0m-3.2     \u001b[0m | \u001b[0m 35.97   \u001b[0m |\n",
      "| \u001b[0m 18      \u001b[0m | \u001b[0m-3.2     \u001b[0m | \u001b[0m 18.57   \u001b[0m |\n",
      "| \u001b[0m 19      \u001b[0m | \u001b[0m-3.2     \u001b[0m | \u001b[0m 26.35   \u001b[0m |\n",
      "| \u001b[0m 20      \u001b[0m | \u001b[0m-3.2     \u001b[0m | \u001b[0m 53.08   \u001b[0m |\n",
      "| \u001b[0m 21      \u001b[0m | \u001b[0m-3.2     \u001b[0m | \u001b[0m 45.5    \u001b[0m |\n",
      "| \u001b[0m 22      \u001b[0m | \u001b[0m-3.2     \u001b[0m | \u001b[0m 60.66   \u001b[0m |\n",
      "| \u001b[0m 23      \u001b[0m | \u001b[0m-3.2     \u001b[0m | \u001b[0m 68.24   \u001b[0m |\n",
      "| \u001b[0m 24      \u001b[0m | \u001b[0m-3.2     \u001b[0m | \u001b[0m 75.53   \u001b[0m |\n",
      "| \u001b[0m 25      \u001b[0m | \u001b[0m-3.2     \u001b[0m | \u001b[0m 82.52   \u001b[0m |\n",
      "=====================================\n"
     ]
    }
   ],
   "source": [
    "optimizer_lmlasso = BayesianOptimization(cv_mse_lmlasso, lmlasso_params, random_state = 1)\n",
    "optimizer_lmlasso.maximize(n_iter = 20)"
   ]
  },
  {
   "cell_type": "markdown",
   "metadata": {},
   "source": [
    "# Random Forest"
   ]
  },
  {
   "cell_type": "code",
   "execution_count": 54,
   "metadata": {},
   "outputs": [],
   "source": [
    "# SKLearn Random Forest\n",
    "rf_params = {'n_estimators':(10,150), 'max_depth':(10,200), 'max_features':(2, 30)}\n",
    "\n",
    "def cv_mse_rf(n_estimators,max_depth, max_features):\n",
    "    \"\"\" \n",
    "    Performs cross validation for Random Forest Regressor. To be used for Bayesian optimiser maximizer function.\n",
    "    \n",
    "    Parameters\n",
    "    ----------\n",
    "    n_estimators : float\n",
    "        Number of estimators for random forest\n",
    "    max_depth : float\n",
    "        Max depth of trees in random forest\n",
    "    max_features : float\n",
    "        Max number of features in random forest\n",
    "\n",
    "    Returns\n",
    "    -------\n",
    "    float\n",
    "        Cross validation score based on negative mean squared error.\n",
    "        \n",
    "    \"\"\"\n",
    "    # Convert chosen hyperparams to discrete integer\n",
    "    max_depth = int(max_depth)\n",
    "    max_features = int(max_features)\n",
    "    n_estimators = int(n_estimators)\n",
    "    \n",
    "    estimator = RandomForestRegressor(n_estimators = n_estimators, max_depth = max_depth, max_features = max_features)\n",
    "\n",
    "    # Note that scoring is neg_mean_squared_error, which means higher the score, the better the model\n",
    "    return cross_validate(estimator, X_train_trans, y_train, cv = 10, scoring = \"neg_root_mean_squared_error\")[\"test_score\"].mean()"
   ]
  },
  {
   "cell_type": "code",
   "execution_count": 55,
   "metadata": {},
   "outputs": [
    {
     "name": "stdout",
     "output_type": "stream",
     "text": [
      "|   iter    |  target   | max_depth | max_fe... | n_esti... |\n",
      "-------------------------------------------------------------\n",
      "| \u001b[0m 1       \u001b[0m | \u001b[0m-2.9     \u001b[0m | \u001b[0m 89.23   \u001b[0m | \u001b[0m 22.17   \u001b[0m | \u001b[0m 10.02   \u001b[0m |\n",
      "| \u001b[95m 2       \u001b[0m | \u001b[95m-2.717   \u001b[0m | \u001b[95m 67.44   \u001b[0m | \u001b[95m 6.109   \u001b[0m | \u001b[95m 22.93   \u001b[0m |\n",
      "| \u001b[95m 3       \u001b[0m | \u001b[95m-2.65    \u001b[0m | \u001b[95m 45.39   \u001b[0m | \u001b[95m 11.68   \u001b[0m | \u001b[95m 65.55   \u001b[0m |\n",
      "| \u001b[0m 4       \u001b[0m | \u001b[0m-2.672   \u001b[0m | \u001b[0m 112.4   \u001b[0m | \u001b[0m 13.74   \u001b[0m | \u001b[0m 105.9   \u001b[0m |\n",
      "| \u001b[0m 5       \u001b[0m | \u001b[0m-2.775   \u001b[0m | \u001b[0m 48.85   \u001b[0m | \u001b[0m 26.59   \u001b[0m | \u001b[0m 13.83   \u001b[0m |\n",
      "| \u001b[0m 6       \u001b[0m | \u001b[0m-2.705   \u001b[0m | \u001b[0m 200.0   \u001b[0m | \u001b[0m 2.0     \u001b[0m | \u001b[0m 150.0   \u001b[0m |\n",
      "| \u001b[0m 7       \u001b[0m | \u001b[0m-2.729   \u001b[0m | \u001b[0m 10.0    \u001b[0m | \u001b[0m 2.0     \u001b[0m | \u001b[0m 150.0   \u001b[0m |\n",
      "| \u001b[0m 8       \u001b[0m | \u001b[0m-2.914   \u001b[0m | \u001b[0m 10.0    \u001b[0m | \u001b[0m 2.0     \u001b[0m | \u001b[0m 10.0    \u001b[0m |\n",
      "| \u001b[0m 9       \u001b[0m | \u001b[0m-2.712   \u001b[0m | \u001b[0m 83.69   \u001b[0m | \u001b[0m 30.0    \u001b[0m | \u001b[0m 150.0   \u001b[0m |\n",
      "| \u001b[0m 10      \u001b[0m | \u001b[0m-2.728   \u001b[0m | \u001b[0m 200.0   \u001b[0m | \u001b[0m 2.0     \u001b[0m | \u001b[0m 55.75   \u001b[0m |\n",
      "| \u001b[0m 11      \u001b[0m | \u001b[0m-2.725   \u001b[0m | \u001b[0m 200.0   \u001b[0m | \u001b[0m 30.0    \u001b[0m | \u001b[0m 109.0   \u001b[0m |\n",
      "| \u001b[0m 12      \u001b[0m | \u001b[0m-2.726   \u001b[0m | \u001b[0m 80.2    \u001b[0m | \u001b[0m 2.0     \u001b[0m | \u001b[0m 150.0   \u001b[0m |\n",
      "| \u001b[0m 13      \u001b[0m | \u001b[0m-2.699   \u001b[0m | \u001b[0m 10.0    \u001b[0m | \u001b[0m 30.0    \u001b[0m | \u001b[0m 115.2   \u001b[0m |\n",
      "| \u001b[0m 14      \u001b[0m | \u001b[0m-2.705   \u001b[0m | \u001b[0m 171.7   \u001b[0m | \u001b[0m 2.0     \u001b[0m | \u001b[0m 102.7   \u001b[0m |\n",
      "| \u001b[0m 15      \u001b[0m | \u001b[0m-2.707   \u001b[0m | \u001b[0m 82.37   \u001b[0m | \u001b[0m 2.0     \u001b[0m | \u001b[0m 77.79   \u001b[0m |\n",
      "| \u001b[0m 16      \u001b[0m | \u001b[0m-2.692   \u001b[0m | \u001b[0m 152.4   \u001b[0m | \u001b[0m 30.0    \u001b[0m | \u001b[0m 150.0   \u001b[0m |\n",
      "| \u001b[0m 17      \u001b[0m | \u001b[0m-2.931   \u001b[0m | \u001b[0m 200.0   \u001b[0m | \u001b[0m 2.0     \u001b[0m | \u001b[0m 10.0    \u001b[0m |\n",
      "| \u001b[0m 18      \u001b[0m | \u001b[0m-2.716   \u001b[0m | \u001b[0m 61.46   \u001b[0m | \u001b[0m 30.0    \u001b[0m | \u001b[0m 69.5    \u001b[0m |\n",
      "| \u001b[0m 19      \u001b[0m | \u001b[0m-2.751   \u001b[0m | \u001b[0m 10.0    \u001b[0m | \u001b[0m 2.0     \u001b[0m | \u001b[0m 91.53   \u001b[0m |\n",
      "| \u001b[0m 20      \u001b[0m | \u001b[0m-2.678   \u001b[0m | \u001b[0m 134.3   \u001b[0m | \u001b[0m 2.0     \u001b[0m | \u001b[0m 150.0   \u001b[0m |\n",
      "| \u001b[0m 21      \u001b[0m | \u001b[0m-2.694   \u001b[0m | \u001b[0m 10.0    \u001b[0m | \u001b[0m 30.0    \u001b[0m | \u001b[0m 150.0   \u001b[0m |\n",
      "| \u001b[0m 22      \u001b[0m | \u001b[0m-2.735   \u001b[0m | \u001b[0m 14.15   \u001b[0m | \u001b[0m 30.0    \u001b[0m | \u001b[0m 58.04   \u001b[0m |\n",
      "| \u001b[0m 23      \u001b[0m | \u001b[0m-2.74    \u001b[0m | \u001b[0m 46.02   \u001b[0m | \u001b[0m 2.259   \u001b[0m | \u001b[0m 47.72   \u001b[0m |\n",
      "| \u001b[0m 24      \u001b[0m | \u001b[0m-2.678   \u001b[0m | \u001b[0m 49.03   \u001b[0m | \u001b[0m 15.3    \u001b[0m | \u001b[0m 112.5   \u001b[0m |\n",
      "| \u001b[0m 25      \u001b[0m | \u001b[0m-2.713   \u001b[0m | \u001b[0m 200.0   \u001b[0m | \u001b[0m 30.0    \u001b[0m | \u001b[0m 150.0   \u001b[0m |\n",
      "| \u001b[0m 26      \u001b[0m | \u001b[0m-2.732   \u001b[0m | \u001b[0m 200.0   \u001b[0m | \u001b[0m 2.0     \u001b[0m | \u001b[0m 105.3   \u001b[0m |\n",
      "| \u001b[0m 27      \u001b[0m | \u001b[0m-2.741   \u001b[0m | \u001b[0m 143.8   \u001b[0m | \u001b[0m 2.0     \u001b[0m | \u001b[0m 59.44   \u001b[0m |\n",
      "| \u001b[0m 28      \u001b[0m | \u001b[0m-2.729   \u001b[0m | \u001b[0m 200.0   \u001b[0m | \u001b[0m 30.0    \u001b[0m | \u001b[0m 55.32   \u001b[0m |\n",
      "| \u001b[0m 29      \u001b[0m | \u001b[0m-2.697   \u001b[0m | \u001b[0m 32.87   \u001b[0m | \u001b[0m 26.56   \u001b[0m | \u001b[0m 85.5    \u001b[0m |\n",
      "| \u001b[0m 30      \u001b[0m | \u001b[0m-2.676   \u001b[0m | \u001b[0m 46.24   \u001b[0m | \u001b[0m 11.33   \u001b[0m | \u001b[0m 62.81   \u001b[0m |\n",
      "| \u001b[0m 31      \u001b[0m | \u001b[0m-2.737   \u001b[0m | \u001b[0m 144.9   \u001b[0m | \u001b[0m 29.79   \u001b[0m | \u001b[0m 83.08   \u001b[0m |\n",
      "| \u001b[0m 32      \u001b[0m | \u001b[0m-2.736   \u001b[0m | \u001b[0m 51.72   \u001b[0m | \u001b[0m 2.014   \u001b[0m | \u001b[0m 89.4    \u001b[0m |\n",
      "| \u001b[0m 33      \u001b[0m | \u001b[0m-2.887   \u001b[0m | \u001b[0m 141.6   \u001b[0m | \u001b[0m 2.0     \u001b[0m | \u001b[0m 10.0    \u001b[0m |\n",
      "| \u001b[0m 34      \u001b[0m | \u001b[0m-2.716   \u001b[0m | \u001b[0m 43.65   \u001b[0m | \u001b[0m 29.09   \u001b[0m | \u001b[0m 148.8   \u001b[0m |\n",
      "| \u001b[0m 35      \u001b[0m | \u001b[0m-2.733   \u001b[0m | \u001b[0m 82.94   \u001b[0m | \u001b[0m 29.52   \u001b[0m | \u001b[0m 107.6   \u001b[0m |\n",
      "=============================================================\n"
     ]
    }
   ],
   "source": [
    "optimizer_rf = BayesianOptimization(cv_mse_rf, rf_params, random_state = 1)\n",
    "optimizer_rf.maximize(n_iter = 30)"
   ]
  },
  {
   "cell_type": "markdown",
   "metadata": {},
   "source": [
    "# XGBoost"
   ]
  },
  {
   "cell_type": "code",
   "execution_count": 56,
   "metadata": {},
   "outputs": [],
   "source": [
    "# XGBoost Regressor\n",
    "xgb_params = {'n_estimators':(10, 150), 'max_depth':(10, 200), 'learning_rate':(0.001, 1),\n",
    "              'subsample':(0, 1), 'gamma':(0, 50), 'reg_alpha':(0, 100), 'reg_lambda':(0, 100)}\n",
    "\n",
    "def cv_mse_xgb(n_estimators, max_depth, learning_rate, subsample, gamma, reg_alpha, reg_lambda):\n",
    "    \"\"\" \n",
    "    Performs cross validation for Random Forest Regressor. To be used for Bayesian optimiser maximizer function.\n",
    "    \n",
    "    Parameters\n",
    "    ----------\n",
    "    n_estimators : float\n",
    "        Number of estimators\n",
    "    max_depth : float\n",
    "        Max depth of trees\n",
    "    learning_rate : float\n",
    "        Learning rate\n",
    "    subsample : float\n",
    "        Subsample ratio of training instances \n",
    "    gamma : float\n",
    "        Min loss reduction to make further partition on leaf node   \n",
    "    reg_alpha : float\n",
    "        L1 regularisation\n",
    "    reg_lambda : float\n",
    "        L2 regularisation\n",
    "\n",
    "    Returns\n",
    "    -------\n",
    "    float\n",
    "        Cross validation score based on negative mean squared error.\n",
    "        \n",
    "    \"\"\"\n",
    "    # Convert chosen hyperparams to discrete integer\n",
    "    max_depth = int(max_depth)\n",
    "    n_estimators = int(n_estimators)\n",
    "    \n",
    "    estimator = xgb.XGBRegressor(objective='reg:squarederror',\n",
    "                                 n_estimators = n_estimators, \n",
    "                                 max_depth = max_depth, \n",
    "                                 learning_rate = learning_rate, \n",
    "                                 subsample = subsample,\n",
    "                                 gamma = gamma, \n",
    "                                 reg_alpha = reg_alpha, \n",
    "                                 reg_lambda = reg_lambda)\n",
    "\n",
    "    # Note that scoring is neg_mean_squared_error, which means higher the score, the better the model\n",
    "    return cross_validate(estimator, X_train_trans, y_train, cv = 10, scoring = \"neg_root_mean_squared_error\")[\"test_score\"].mean()"
   ]
  },
  {
   "cell_type": "code",
   "execution_count": 57,
   "metadata": {},
   "outputs": [
    {
     "name": "stdout",
     "output_type": "stream",
     "text": [
      "|   iter    |  target   |   gamma   | learni... | max_depth | n_esti... | reg_alpha | reg_la... | subsample |\n",
      "-------------------------------------------------------------------------------------------------------------\n",
      "| \u001b[0m 1       \u001b[0m | \u001b[0m-2.909   \u001b[0m | \u001b[0m 20.85   \u001b[0m | \u001b[0m 0.7206  \u001b[0m | \u001b[0m 10.02   \u001b[0m | \u001b[0m 52.33   \u001b[0m | \u001b[0m 14.68   \u001b[0m | \u001b[0m 9.234   \u001b[0m | \u001b[0m 0.1863  \u001b[0m |\n",
      "| \u001b[95m 2       \u001b[0m | \u001b[95m-2.729   \u001b[0m | \u001b[95m 17.28   \u001b[0m | \u001b[95m 0.3974  \u001b[0m | \u001b[95m 112.4   \u001b[0m | \u001b[95m 68.69   \u001b[0m | \u001b[95m 68.52   \u001b[0m | \u001b[95m 20.45   \u001b[0m | \u001b[95m 0.8781  \u001b[0m |\n",
      "| \u001b[0m 3       \u001b[0m | \u001b[0m-2.953   \u001b[0m | \u001b[0m 1.369   \u001b[0m | \u001b[0m 0.6708  \u001b[0m | \u001b[0m 89.29   \u001b[0m | \u001b[0m 88.22   \u001b[0m | \u001b[0m 14.04   \u001b[0m | \u001b[0m 19.81   \u001b[0m | \u001b[0m 0.8007  \u001b[0m |\n",
      "| \u001b[0m 4       \u001b[0m | \u001b[0m-4.358   \u001b[0m | \u001b[0m 48.41   \u001b[0m | \u001b[0m 0.3141  \u001b[0m | \u001b[0m 141.5   \u001b[0m | \u001b[0m 132.7   \u001b[0m | \u001b[0m 89.46   \u001b[0m | \u001b[0m 8.504   \u001b[0m | \u001b[0m 0.03905 \u001b[0m |\n",
      "| \u001b[95m 5       \u001b[0m | \u001b[95m-2.728   \u001b[0m | \u001b[95m 8.492   \u001b[0m | \u001b[95m 0.8783  \u001b[0m | \u001b[95m 28.69   \u001b[0m | \u001b[95m 68.96   \u001b[0m | \u001b[95m 95.79   \u001b[0m | \u001b[95m 53.32   \u001b[0m | \u001b[95m 0.6919  \u001b[0m |\n",
      "| \u001b[0m 6       \u001b[0m | \u001b[0m-11.71   \u001b[0m | \u001b[0m 0.0     \u001b[0m | \u001b[0m 0.001   \u001b[0m | \u001b[0m 123.6   \u001b[0m | \u001b[0m 10.0    \u001b[0m | \u001b[0m 41.37   \u001b[0m | \u001b[0m 100.0   \u001b[0m | \u001b[0m 1.0     \u001b[0m |\n",
      "| \u001b[0m 7       \u001b[0m | \u001b[0m-2.818   \u001b[0m | \u001b[0m 12.94   \u001b[0m | \u001b[0m 0.6685  \u001b[0m | \u001b[0m 70.0    \u001b[0m | \u001b[0m 76.44   \u001b[0m | \u001b[0m 57.11   \u001b[0m | \u001b[0m 20.76   \u001b[0m | \u001b[0m 0.7061  \u001b[0m |\n",
      "| \u001b[0m 8       \u001b[0m | \u001b[0m-2.734   \u001b[0m | \u001b[0m 13.16   \u001b[0m | \u001b[0m 0.8508  \u001b[0m | \u001b[0m 20.15   \u001b[0m | \u001b[0m 67.28   \u001b[0m | \u001b[0m 57.52   \u001b[0m | \u001b[0m 29.46   \u001b[0m | \u001b[0m 0.4754  \u001b[0m |\n",
      "| \u001b[0m 9       \u001b[0m | \u001b[0m-2.78    \u001b[0m | \u001b[0m 24.43   \u001b[0m | \u001b[0m 0.6934  \u001b[0m | \u001b[0m 45.03   \u001b[0m | \u001b[0m 60.06   \u001b[0m | \u001b[0m 95.56   \u001b[0m | \u001b[0m 13.44   \u001b[0m | \u001b[0m 0.6331  \u001b[0m |\n",
      "| \u001b[0m 10      \u001b[0m | \u001b[0m-10.81   \u001b[0m | \u001b[0m 0.0     \u001b[0m | \u001b[0m 0.001   \u001b[0m | \u001b[0m 33.73   \u001b[0m | \u001b[0m 101.9   \u001b[0m | \u001b[0m 90.12   \u001b[0m | \u001b[0m 19.04   \u001b[0m | \u001b[0m 1.0     \u001b[0m |\n",
      "| \u001b[0m 11      \u001b[0m | \u001b[0m-2.755   \u001b[0m | \u001b[0m 16.39   \u001b[0m | \u001b[0m 0.4522  \u001b[0m | \u001b[0m 103.8   \u001b[0m | \u001b[0m 70.26   \u001b[0m | \u001b[0m 66.16   \u001b[0m | \u001b[0m 20.5    \u001b[0m | \u001b[0m 0.8434  \u001b[0m |\n",
      "| \u001b[0m 12      \u001b[0m | \u001b[0m-2.768   \u001b[0m | \u001b[0m 14.16   \u001b[0m | \u001b[0m 0.9726  \u001b[0m | \u001b[0m 28.05   \u001b[0m | \u001b[0m 61.89   \u001b[0m | \u001b[0m 81.61   \u001b[0m | \u001b[0m 42.92   \u001b[0m | \u001b[0m 0.5536  \u001b[0m |\n",
      "| \u001b[0m 13      \u001b[0m | \u001b[0m-2.782   \u001b[0m | \u001b[0m 21.22   \u001b[0m | \u001b[0m 0.9345  \u001b[0m | \u001b[0m 38.93   \u001b[0m | \u001b[0m 57.45   \u001b[0m | \u001b[0m 72.88   \u001b[0m | \u001b[0m 24.95   \u001b[0m | \u001b[0m 0.497   \u001b[0m |\n",
      "| \u001b[0m 14      \u001b[0m | \u001b[0m-2.865   \u001b[0m | \u001b[0m 21.46   \u001b[0m | \u001b[0m 1.0     \u001b[0m | \u001b[0m 41.39   \u001b[0m | \u001b[0m 53.84   \u001b[0m | \u001b[0m 95.36   \u001b[0m | \u001b[0m 36.5    \u001b[0m | \u001b[0m 0.5686  \u001b[0m |\n",
      "| \u001b[0m 15      \u001b[0m | \u001b[0m-2.764   \u001b[0m | \u001b[0m 22.57   \u001b[0m | \u001b[0m 0.8525  \u001b[0m | \u001b[0m 65.36   \u001b[0m | \u001b[0m 58.33   \u001b[0m | \u001b[0m 76.95   \u001b[0m | \u001b[0m 22.3    \u001b[0m | \u001b[0m 0.6097  \u001b[0m |\n",
      "| \u001b[0m 16      \u001b[0m | \u001b[0m-2.75    \u001b[0m | \u001b[0m 16.1    \u001b[0m | \u001b[0m 0.9902  \u001b[0m | \u001b[0m 45.64   \u001b[0m | \u001b[0m 60.63   \u001b[0m | \u001b[0m 48.45   \u001b[0m | \u001b[0m 31.84   \u001b[0m | \u001b[0m 0.4634  \u001b[0m |\n",
      "| \u001b[0m 17      \u001b[0m | \u001b[0m-2.776   \u001b[0m | \u001b[0m 21.84   \u001b[0m | \u001b[0m 0.9292  \u001b[0m | \u001b[0m 22.06   \u001b[0m | \u001b[0m 50.84   \u001b[0m | \u001b[0m 42.24   \u001b[0m | \u001b[0m 21.15   \u001b[0m | \u001b[0m 0.2912  \u001b[0m |\n",
      "| \u001b[0m 18      \u001b[0m | \u001b[0m-3.258   \u001b[0m | \u001b[0m 22.83   \u001b[0m | \u001b[0m 1.0     \u001b[0m | \u001b[0m 23.96   \u001b[0m | \u001b[0m 52.14   \u001b[0m | \u001b[0m 56.27   \u001b[0m | \u001b[0m 47.48   \u001b[0m | \u001b[0m 0.09118 \u001b[0m |\n",
      "| \u001b[0m 19      \u001b[0m | \u001b[0m-2.741   \u001b[0m | \u001b[0m 24.08   \u001b[0m | \u001b[0m 0.8155  \u001b[0m | \u001b[0m 60.74   \u001b[0m | \u001b[0m 55.46   \u001b[0m | \u001b[0m 50.59   \u001b[0m | \u001b[0m 8.072   \u001b[0m | \u001b[0m 0.5181  \u001b[0m |\n",
      "| \u001b[0m 20      \u001b[0m | \u001b[0m-2.83    \u001b[0m | \u001b[0m 16.32   \u001b[0m | \u001b[0m 1.0     \u001b[0m | \u001b[0m 83.08   \u001b[0m | \u001b[0m 62.32   \u001b[0m | \u001b[0m 36.67   \u001b[0m | \u001b[0m 23.89   \u001b[0m | \u001b[0m 0.5888  \u001b[0m |\n",
      "| \u001b[0m 21      \u001b[0m | \u001b[0m-2.878   \u001b[0m | \u001b[0m 32.34   \u001b[0m | \u001b[0m 1.0     \u001b[0m | \u001b[0m 49.38   \u001b[0m | \u001b[0m 37.77   \u001b[0m | \u001b[0m 83.5    \u001b[0m | \u001b[0m 7.391   \u001b[0m | \u001b[0m 0.5379  \u001b[0m |\n",
      "| \u001b[0m 22      \u001b[0m | \u001b[0m-2.75    \u001b[0m | \u001b[0m 8.608   \u001b[0m | \u001b[0m 1.0     \u001b[0m | \u001b[0m 20.31   \u001b[0m | \u001b[0m 46.65   \u001b[0m | \u001b[0m 96.7    \u001b[0m | \u001b[0m 63.04   \u001b[0m | \u001b[0m 0.7923  \u001b[0m |\n",
      "| \u001b[0m 23      \u001b[0m | \u001b[0m-3.038   \u001b[0m | \u001b[0m 13.05   \u001b[0m | \u001b[0m 0.927   \u001b[0m | \u001b[0m 48.01   \u001b[0m | \u001b[0m 69.33   \u001b[0m | \u001b[0m 21.0    \u001b[0m | \u001b[0m 12.46   \u001b[0m | \u001b[0m 0.5032  \u001b[0m |\n",
      "| \u001b[0m 24      \u001b[0m | \u001b[0m-3.823   \u001b[0m | \u001b[0m 22.74   \u001b[0m | \u001b[0m 1.0     \u001b[0m | \u001b[0m 39.28   \u001b[0m | \u001b[0m 62.77   \u001b[0m | \u001b[0m 90.34   \u001b[0m | \u001b[0m 73.83   \u001b[0m | \u001b[0m 0.06012 \u001b[0m |\n",
      "| \u001b[0m 25      \u001b[0m | \u001b[0m-2.799   \u001b[0m | \u001b[0m 5.085   \u001b[0m | \u001b[0m 1.0     \u001b[0m | \u001b[0m 18.36   \u001b[0m | \u001b[0m 36.87   \u001b[0m | \u001b[0m 84.21   \u001b[0m | \u001b[0m 28.75   \u001b[0m | \u001b[0m 1.0     \u001b[0m |\n",
      "| \u001b[0m 26      \u001b[0m | \u001b[0m-2.772   \u001b[0m | \u001b[0m 0.0     \u001b[0m | \u001b[0m 1.0     \u001b[0m | \u001b[0m 50.82   \u001b[0m | \u001b[0m 37.9    \u001b[0m | \u001b[0m 61.61   \u001b[0m | \u001b[0m 17.92   \u001b[0m | \u001b[0m 1.0     \u001b[0m |\n",
      "| \u001b[0m 27      \u001b[0m | \u001b[0m-11.79   \u001b[0m | \u001b[0m 3.284   \u001b[0m | \u001b[0m 1.0     \u001b[0m | \u001b[0m 87.39   \u001b[0m | \u001b[0m 46.82   \u001b[0m | \u001b[0m 63.87   \u001b[0m | \u001b[0m 3.492   \u001b[0m | \u001b[0m 0.0     \u001b[0m |\n",
      "| \u001b[0m 28      \u001b[0m | \u001b[0m-2.796   \u001b[0m | \u001b[0m 15.78   \u001b[0m | \u001b[0m 0.833   \u001b[0m | \u001b[0m 42.26   \u001b[0m | \u001b[0m 49.34   \u001b[0m | \u001b[0m 55.3    \u001b[0m | \u001b[0m 16.25   \u001b[0m | \u001b[0m 0.9345  \u001b[0m |\n",
      "| \u001b[0m 29      \u001b[0m | \u001b[0m-2.78    \u001b[0m | \u001b[0m 27.21   \u001b[0m | \u001b[0m 0.7425  \u001b[0m | \u001b[0m 57.46   \u001b[0m | \u001b[0m 64.74   \u001b[0m | \u001b[0m 58.16   \u001b[0m | \u001b[0m 22.66   \u001b[0m | \u001b[0m 1.0     \u001b[0m |\n",
      "| \u001b[0m 30      \u001b[0m | \u001b[0m-2.821   \u001b[0m | \u001b[0m 5.154   \u001b[0m | \u001b[0m 1.0     \u001b[0m | \u001b[0m 35.57   \u001b[0m | \u001b[0m 44.95   \u001b[0m | \u001b[0m 69.14   \u001b[0m | \u001b[0m 30.79   \u001b[0m | \u001b[0m 0.8421  \u001b[0m |\n",
      "| \u001b[0m 31      \u001b[0m | \u001b[0m-2.785   \u001b[0m | \u001b[0m 19.99   \u001b[0m | \u001b[0m 0.7755  \u001b[0m | \u001b[0m 62.61   \u001b[0m | \u001b[0m 68.3    \u001b[0m | \u001b[0m 38.14   \u001b[0m | \u001b[0m 20.44   \u001b[0m | \u001b[0m 0.6785  \u001b[0m |\n",
      "| \u001b[0m 32      \u001b[0m | \u001b[0m-2.805   \u001b[0m | \u001b[0m 14.17   \u001b[0m | \u001b[0m 0.703   \u001b[0m | \u001b[0m 43.31   \u001b[0m | \u001b[0m 42.12   \u001b[0m | \u001b[0m 84.87   \u001b[0m | \u001b[0m 19.43   \u001b[0m | \u001b[0m 1.0     \u001b[0m |\n",
      "| \u001b[0m 33      \u001b[0m | \u001b[0m-2.867   \u001b[0m | \u001b[0m 2.698   \u001b[0m | \u001b[0m 0.9971  \u001b[0m | \u001b[0m 27.85   \u001b[0m | \u001b[0m 48.88   \u001b[0m | \u001b[0m 94.37   \u001b[0m | \u001b[0m 43.95   \u001b[0m | \u001b[0m 1.0     \u001b[0m |\n",
      "| \u001b[0m 34      \u001b[0m | \u001b[0m-11.28   \u001b[0m | \u001b[0m 36.29   \u001b[0m | \u001b[0m 0.001   \u001b[0m | \u001b[0m 52.51   \u001b[0m | \u001b[0m 52.4    \u001b[0m | \u001b[0m 82.96   \u001b[0m | \u001b[0m 24.09   \u001b[0m | \u001b[0m 1.0     \u001b[0m |\n",
      "| \u001b[0m 35      \u001b[0m | \u001b[0m-2.756   \u001b[0m | \u001b[0m 20.34   \u001b[0m | \u001b[0m 0.8321  \u001b[0m | \u001b[0m 57.12   \u001b[0m | \u001b[0m 61.5    \u001b[0m | \u001b[0m 49.58   \u001b[0m | \u001b[0m 18.98   \u001b[0m | \u001b[0m 0.6565  \u001b[0m |\n",
      "=============================================================================================================\n"
     ]
    }
   ],
   "source": [
    "# Warnings due to some current issue with xgboost incompatibility with pandas deprecation\n",
    "# Fix will be for upcoming xgboost version 1.0.0, but latest version is only 0.90\n",
    "# See https://github.com/dmlc/xgboost/issues/4300\n",
    "import warnings\n",
    "warnings.simplefilter(action='ignore', category=FutureWarning)\n",
    "\n",
    "# Fixed random state due to xgboost hyper param combination throwing a result for NaN\n",
    "optimizer_xgb = BayesianOptimization(cv_mse_xgb, xgb_params, random_state = 1)\n",
    "optimizer_xgb.maximize(n_iter = 30)"
   ]
  },
  {
   "cell_type": "markdown",
   "metadata": {},
   "source": [
    "# LightGBM\n"
   ]
  },
  {
   "cell_type": "code",
   "execution_count": 59,
   "metadata": {},
   "outputs": [],
   "source": [
    "# LightGBM\n",
    "lgbm_params = {'n_estimators':(10, 150), 'max_depth':(10, 200), 'learning_rate':(0.001, 1),\n",
    "               'reg_alpha':(0, 100), 'reg_lambda':(0, 100)}\n",
    "\n",
    "def cv_mse_lgbm(n_estimators, max_depth, learning_rate, reg_alpha, reg_lambda):\n",
    "    \"\"\" \n",
    "    Performs cross validation for Random Forest Regressor. To be used for Bayesian optimiser maximizer function.\n",
    "    \n",
    "    Parameters\n",
    "    ----------\n",
    "    n_estimators : float\n",
    "        Number of estimators\n",
    "    max_depth : float\n",
    "        Max depth of trees\n",
    "    learning_rate : float\n",
    "        Learning rate\n",
    "    reg_alpha : float\n",
    "        L1 regularisation\n",
    "    reg_lambda : float\n",
    "        L2 regularisation\n",
    "\n",
    "    Returns\n",
    "    -------\n",
    "    float\n",
    "        Cross validation score based on negative mean squared error.\n",
    "        \n",
    "    \"\"\"\n",
    "    # Convert chosen hyperparams to discrete integer\n",
    "    max_depth = int(max_depth)\n",
    "    n_estimators = int(n_estimators)\n",
    "    \n",
    "    estimator = lgbm.LGBMRegressor(n_estimators = n_estimators, \n",
    "                                 max_depth = max_depth, \n",
    "                                 learning_rate = learning_rate, \n",
    "                                 reg_alpha = reg_alpha, \n",
    "                                 reg_lambda = reg_lambda)\n",
    "    \n",
    "    # Note that scoring is neg_mean_squared_error, which means higher the score, the better the model\n",
    "    return cross_validate(estimator, X_train_trans, y_train, cv = 10, scoring = \"neg_root_mean_squared_error\")[\"test_score\"].mean()"
   ]
  },
  {
   "cell_type": "code",
   "execution_count": 60,
   "metadata": {},
   "outputs": [
    {
     "name": "stdout",
     "output_type": "stream",
     "text": [
      "|   iter    |  target   | learni... | max_depth | n_esti... | reg_alpha | reg_la... |\n",
      "-------------------------------------------------------------------------------------\n",
      "| \u001b[0m 1       \u001b[0m | \u001b[0m-2.727   \u001b[0m | \u001b[0m 0.4176  \u001b[0m | \u001b[0m 146.9   \u001b[0m | \u001b[0m 10.02   \u001b[0m | \u001b[0m 30.23   \u001b[0m | \u001b[0m 14.68   \u001b[0m |\n",
      "| \u001b[0m 2       \u001b[0m | \u001b[0m-2.749   \u001b[0m | \u001b[0m 0.09325 \u001b[0m | \u001b[0m 45.39   \u001b[0m | \u001b[0m 58.38   \u001b[0m | \u001b[0m 39.68   \u001b[0m | \u001b[0m 53.88   \u001b[0m |\n",
      "| \u001b[0m 3       \u001b[0m | \u001b[0m-2.809   \u001b[0m | \u001b[0m 0.4198  \u001b[0m | \u001b[0m 140.2   \u001b[0m | \u001b[0m 38.62   \u001b[0m | \u001b[0m 87.81   \u001b[0m | \u001b[0m 2.739   \u001b[0m |\n",
      "| \u001b[0m 4       \u001b[0m | \u001b[0m-2.802   \u001b[0m | \u001b[0m 0.6708  \u001b[0m | \u001b[0m 89.29   \u001b[0m | \u001b[0m 88.22   \u001b[0m | \u001b[0m 14.04   \u001b[0m | \u001b[0m 19.81   \u001b[0m |\n",
      "| \u001b[0m 5       \u001b[0m | \u001b[0m-2.79    \u001b[0m | \u001b[0m 0.8009  \u001b[0m | \u001b[0m 194.0   \u001b[0m | \u001b[0m 53.88   \u001b[0m | \u001b[0m 69.23   \u001b[0m | \u001b[0m 87.64   \u001b[0m |\n",
      "| \u001b[0m 6       \u001b[0m | \u001b[0m-2.769   \u001b[0m | \u001b[0m 1.0     \u001b[0m | \u001b[0m 10.0    \u001b[0m | \u001b[0m 10.0    \u001b[0m | \u001b[0m 4.931e-1\u001b[0m | \u001b[0m 100.0   \u001b[0m |\n",
      "| \u001b[0m 7       \u001b[0m | \u001b[0m-3.167   \u001b[0m | \u001b[0m 0.001   \u001b[0m | \u001b[0m 10.0    \u001b[0m | \u001b[0m 150.0   \u001b[0m | \u001b[0m 100.0   \u001b[0m | \u001b[0m 100.0   \u001b[0m |\n",
      "| \u001b[0m 8       \u001b[0m | \u001b[0m-3.19    \u001b[0m | \u001b[0m 0.001   \u001b[0m | \u001b[0m 10.0    \u001b[0m | \u001b[0m 10.0    \u001b[0m | \u001b[0m 0.0     \u001b[0m | \u001b[0m 0.0     \u001b[0m |\n",
      "| \u001b[0m 9       \u001b[0m | \u001b[0m-3.136   \u001b[0m | \u001b[0m 0.001   \u001b[0m | \u001b[0m 200.0   \u001b[0m | \u001b[0m 150.0   \u001b[0m | \u001b[0m 0.0     \u001b[0m | \u001b[0m 100.0   \u001b[0m |\n",
      "| \u001b[0m 10      \u001b[0m | \u001b[0m-2.823   \u001b[0m | \u001b[0m 1.0     \u001b[0m | \u001b[0m 92.09   \u001b[0m | \u001b[0m 10.0    \u001b[0m | \u001b[0m 100.0   \u001b[0m | \u001b[0m 100.0   \u001b[0m |\n",
      "| \u001b[0m 11      \u001b[0m | \u001b[0m-3.195   \u001b[0m | \u001b[0m 0.001   \u001b[0m | \u001b[0m 200.0   \u001b[0m | \u001b[0m 10.0    \u001b[0m | \u001b[0m 0.0     \u001b[0m | \u001b[0m 100.0   \u001b[0m |\n",
      "| \u001b[0m 12      \u001b[0m | \u001b[0m-2.831   \u001b[0m | \u001b[0m 1.0     \u001b[0m | \u001b[0m 200.0   \u001b[0m | \u001b[0m 150.0   \u001b[0m | \u001b[0m 100.0   \u001b[0m | \u001b[0m 0.0     \u001b[0m |\n",
      "| \u001b[0m 13      \u001b[0m | \u001b[0m-3.003   \u001b[0m | \u001b[0m 1.0     \u001b[0m | \u001b[0m 10.0    \u001b[0m | \u001b[0m 150.0   \u001b[0m | \u001b[0m 0.0     \u001b[0m | \u001b[0m 100.0   \u001b[0m |\n",
      "| \u001b[0m 14      \u001b[0m | \u001b[0m-3.554   \u001b[0m | \u001b[0m 1.0     \u001b[0m | \u001b[0m 200.0   \u001b[0m | \u001b[0m 81.25   \u001b[0m | \u001b[0m 0.0     \u001b[0m | \u001b[0m 0.0     \u001b[0m |\n",
      "| \u001b[0m 15      \u001b[0m | \u001b[0m-2.823   \u001b[0m | \u001b[0m 1.0     \u001b[0m | \u001b[0m 153.6   \u001b[0m | \u001b[0m 150.0   \u001b[0m | \u001b[0m 100.0   \u001b[0m | \u001b[0m 100.0   \u001b[0m |\n",
      "| \u001b[0m 16      \u001b[0m | \u001b[0m-3.181   \u001b[0m | \u001b[0m 0.001   \u001b[0m | \u001b[0m 93.23   \u001b[0m | \u001b[0m 42.7    \u001b[0m | \u001b[0m 0.0     \u001b[0m | \u001b[0m 100.0   \u001b[0m |\n",
      "| \u001b[0m 17      \u001b[0m | \u001b[0m-2.831   \u001b[0m | \u001b[0m 1.0     \u001b[0m | \u001b[0m 10.0    \u001b[0m | \u001b[0m 150.0   \u001b[0m | \u001b[0m 100.0   \u001b[0m | \u001b[0m 0.0     \u001b[0m |\n",
      "| \u001b[0m 18      \u001b[0m | \u001b[0m-3.076   \u001b[0m | \u001b[0m 0.001   \u001b[0m | \u001b[0m 10.0    \u001b[0m | \u001b[0m 150.0   \u001b[0m | \u001b[0m 0.0     \u001b[0m | \u001b[0m 0.0     \u001b[0m |\n",
      "| \u001b[0m 19      \u001b[0m | \u001b[0m-2.84    \u001b[0m | \u001b[0m 1.0     \u001b[0m | \u001b[0m 10.0    \u001b[0m | \u001b[0m 10.0    \u001b[0m | \u001b[0m 100.0   \u001b[0m | \u001b[0m 30.54   \u001b[0m |\n",
      "| \u001b[0m 20      \u001b[0m | \u001b[0m-2.827   \u001b[0m | \u001b[0m 1.0     \u001b[0m | \u001b[0m 200.0   \u001b[0m | \u001b[0m 10.0    \u001b[0m | \u001b[0m 100.0   \u001b[0m | \u001b[0m 52.33   \u001b[0m |\n",
      "| \u001b[0m 21      \u001b[0m | \u001b[0m-3.137   \u001b[0m | \u001b[0m 0.001   \u001b[0m | \u001b[0m 102.1   \u001b[0m | \u001b[0m 150.0   \u001b[0m | \u001b[0m 100.0   \u001b[0m | \u001b[0m 0.0     \u001b[0m |\n",
      "| \u001b[0m 22      \u001b[0m | \u001b[0m-3.167   \u001b[0m | \u001b[0m 0.001   \u001b[0m | \u001b[0m 200.0   \u001b[0m | \u001b[0m 150.0   \u001b[0m | \u001b[0m 100.0   \u001b[0m | \u001b[0m 100.0   \u001b[0m |\n",
      "| \u001b[0m 23      \u001b[0m | \u001b[0m-2.823   \u001b[0m | \u001b[0m 1.0     \u001b[0m | \u001b[0m 10.0    \u001b[0m | \u001b[0m 10.0    \u001b[0m | \u001b[0m 100.0   \u001b[0m | \u001b[0m 100.0   \u001b[0m |\n",
      "| \u001b[0m 24      \u001b[0m | \u001b[0m-2.758   \u001b[0m | \u001b[0m 1.0     \u001b[0m | \u001b[0m 105.7   \u001b[0m | \u001b[0m 150.0   \u001b[0m | \u001b[0m 32.27   \u001b[0m | \u001b[0m 100.0   \u001b[0m |\n",
      "| \u001b[0m 25      \u001b[0m | \u001b[0m-2.832   \u001b[0m | \u001b[0m 1.0     \u001b[0m | \u001b[0m 120.7   \u001b[0m | \u001b[0m 84.54   \u001b[0m | \u001b[0m 100.0   \u001b[0m | \u001b[0m 74.57   \u001b[0m |\n",
      "| \u001b[0m 26      \u001b[0m | \u001b[0m-2.827   \u001b[0m | \u001b[0m 1.0     \u001b[0m | \u001b[0m 83.46   \u001b[0m | \u001b[0m 10.0    \u001b[0m | \u001b[0m 60.33   \u001b[0m | \u001b[0m 0.0     \u001b[0m |\n",
      "| \u001b[0m 27      \u001b[0m | \u001b[0m-2.831   \u001b[0m | \u001b[0m 1.0     \u001b[0m | \u001b[0m 10.0    \u001b[0m | \u001b[0m 79.22   \u001b[0m | \u001b[0m 100.0   \u001b[0m | \u001b[0m 0.0     \u001b[0m |\n",
      "| \u001b[0m 28      \u001b[0m | \u001b[0m-2.781   \u001b[0m | \u001b[0m 1.0     \u001b[0m | \u001b[0m 140.1   \u001b[0m | \u001b[0m 10.0    \u001b[0m | \u001b[0m 64.37   \u001b[0m | \u001b[0m 59.91   \u001b[0m |\n",
      "| \u001b[0m 29      \u001b[0m | \u001b[0m-2.823   \u001b[0m | \u001b[0m 1.0     \u001b[0m | \u001b[0m 200.0   \u001b[0m | \u001b[0m 10.0    \u001b[0m | \u001b[0m 100.0   \u001b[0m | \u001b[0m 100.0   \u001b[0m |\n",
      "| \u001b[0m 30      \u001b[0m | \u001b[0m-2.765   \u001b[0m | \u001b[0m 1.0     \u001b[0m | \u001b[0m 146.5   \u001b[0m | \u001b[0m 150.0   \u001b[0m | \u001b[0m 49.76   \u001b[0m | \u001b[0m 53.35   \u001b[0m |\n",
      "| \u001b[0m 31      \u001b[0m | \u001b[0m-2.82    \u001b[0m | \u001b[0m 1.0     \u001b[0m | \u001b[0m 200.0   \u001b[0m | \u001b[0m 10.0    \u001b[0m | \u001b[0m 69.18   \u001b[0m | \u001b[0m 0.0     \u001b[0m |\n",
      "| \u001b[0m 32      \u001b[0m | \u001b[0m-2.741   \u001b[0m | \u001b[0m 1.0     \u001b[0m | \u001b[0m 10.0    \u001b[0m | \u001b[0m 66.47   \u001b[0m | \u001b[0m 37.62   \u001b[0m | \u001b[0m 100.0   \u001b[0m |\n",
      "| \u001b[0m 33      \u001b[0m | \u001b[0m-2.792   \u001b[0m | \u001b[0m 1.0     \u001b[0m | \u001b[0m 10.0    \u001b[0m | \u001b[0m 107.4   \u001b[0m | \u001b[0m 50.16   \u001b[0m | \u001b[0m 39.15   \u001b[0m |\n",
      "| \u001b[0m 34      \u001b[0m | \u001b[0m-2.737   \u001b[0m | \u001b[0m 1.0     \u001b[0m | \u001b[0m 10.0    \u001b[0m | \u001b[0m 10.0    \u001b[0m | \u001b[0m 47.19   \u001b[0m | \u001b[0m 100.0   \u001b[0m |\n",
      "| \u001b[0m 35      \u001b[0m | \u001b[0m-2.767   \u001b[0m | \u001b[0m 1.0     \u001b[0m | \u001b[0m 143.1   \u001b[0m | \u001b[0m 110.9   \u001b[0m | \u001b[0m 56.52   \u001b[0m | \u001b[0m 100.0   \u001b[0m |\n",
      "=====================================================================================\n"
     ]
    }
   ],
   "source": [
    "# Fixed random state due to xgboost hyper param combination throwing a result for NaN\n",
    "optimizer_lgbm = BayesianOptimization(cv_mse_lgbm, lgbm_params, random_state = 1)\n",
    "optimizer_lgbm.maximize(n_iter = 30)"
   ]
  },
  {
   "cell_type": "code",
   "execution_count": 108,
   "metadata": {},
   "outputs": [
    {
     "data": {
      "text/html": [
       "<div>\n",
       "<style scoped>\n",
       "    .dataframe tbody tr th:only-of-type {\n",
       "        vertical-align: middle;\n",
       "    }\n",
       "\n",
       "    .dataframe tbody tr th {\n",
       "        vertical-align: top;\n",
       "    }\n",
       "\n",
       "    .dataframe thead th {\n",
       "        text-align: right;\n",
       "    }\n",
       "</style>\n",
       "<table border=\"1\" class=\"dataframe\">\n",
       "  <thead>\n",
       "    <tr style=\"text-align: right;\">\n",
       "      <th></th>\n",
       "      <th>cv_score</th>\n",
       "    </tr>\n",
       "  </thead>\n",
       "  <tbody>\n",
       "    <tr>\n",
       "      <th>lm_lasso</th>\n",
       "      <td>2.731073</td>\n",
       "    </tr>\n",
       "    <tr>\n",
       "      <th>lm_ridge</th>\n",
       "      <td>2.735046</td>\n",
       "    </tr>\n",
       "    <tr>\n",
       "      <th>randomforest</th>\n",
       "      <td>2.649802</td>\n",
       "    </tr>\n",
       "    <tr>\n",
       "      <th>xgb</th>\n",
       "      <td>2.727777</td>\n",
       "    </tr>\n",
       "    <tr>\n",
       "      <th>lgbm</th>\n",
       "      <td>2.726576</td>\n",
       "    </tr>\n",
       "  </tbody>\n",
       "</table>\n",
       "</div>"
      ],
      "text/plain": [
       "              cv_score\n",
       "lm_lasso      2.731073\n",
       "lm_ridge      2.735046\n",
       "randomforest  2.649802\n",
       "xgb           2.727777\n",
       "lgbm          2.726576"
      ]
     },
     "execution_count": 108,
     "metadata": {},
     "output_type": "execute_result"
    }
   ],
   "source": [
    "# Compare the best models\n",
    "cv_rmse = [-optimizer_lmlasso.max['target'], \n",
    "             -optimizer_lmridge.max['target'], \n",
    "             -optimizer_rf.max['target'],\n",
    "             -optimizer_xgb.max['target'],\n",
    "             -optimizer_lgbm.max['target']]\n",
    "\n",
    "models = [\"lm_lasso\", \"lm_ridge\", \"randomforest\", \"xgb\", \"lgbm\"]\n",
    "\n",
    "cv_df = pd.DataFrame(cv_rmse, index = models, columns = [\"cv_score\"])\n",
    "\n",
    "# Output to csv\n",
    "cv_df.to_csv(\"../data/output/cv_results.csv\")\n",
    "\n",
    "cv_df"
   ]
  },
  {
   "cell_type": "code",
   "execution_count": 109,
   "metadata": {},
   "outputs": [],
   "source": [
    "# Adjusting discrete hyperparam for certain models\n",
    "rf_hyperparam = optimizer_rf.max['params']\n",
    "rf_hyperparam['max_depth'] = int(rf_hyperparam['max_depth'])\n",
    "rf_hyperparam['max_features'] = int(rf_hyperparam['max_features'])\n",
    "rf_hyperparam['n_estimators'] = int(rf_hyperparam['n_estimators'])\n",
    "\n",
    "xgb_hyperparam = optimizer_xgb.max['params']\n",
    "xgb_hyperparam['max_depth'] = int(xgb_hyperparam['max_depth'])\n",
    "xgb_hyperparam['n_estimators'] = int(xgb_hyperparam['n_estimators'])\n",
    "\n",
    "lgbm_hyperparam = optimizer_lgbm.max['params']\n",
    "lgbm_hyperparam['max_depth'] = int(lgbm_hyperparam['max_depth'])\n",
    "lgbm_hyperparam['n_estimators'] = int(lgbm_hyperparam['n_estimators'])"
   ]
  },
  {
   "cell_type": "code",
   "execution_count": 74,
   "metadata": {},
   "outputs": [],
   "source": [
    "# Store as Series for writing to csv\n",
    "lmlasso_hyperparam_series = pd.Series(optimizer_lmlasso.max['params'])\n",
    "\n",
    "lmridge_hyperparam_series = pd.Series(optimizer_lmridge.max['params'])\n",
    "\n",
    "rf_hyperparam_series = pd.Series(rf_hyperparam)\n",
    "\n",
    "xgb_hyperparam_series = pd.Series(xgb_hyperparam)\n",
    "\n",
    "lgbm_hyperparam_series = pd.Series(lgbm_hyperparam)"
   ]
  },
  {
   "cell_type": "code",
   "execution_count": 75,
   "metadata": {},
   "outputs": [],
   "source": [
    "# Output model params to csv\n",
    "lmlasso_hyperparam_series.to_csv(\"../data/output/lmlasso_hyperparam.csv\", header = False)\n",
    "lmridge_hyperparam_series.to_csv(\"../data/output/lmridge_hyperparam.csv\", header = False)\n",
    "rf_hyperparam_series.to_csv(\"../data/output/rf_hyperparam.csv\", header = False)\n",
    "xgb_hyperparam_series.to_csv(\"../data/output/xgb_hyperparam.csv\", header = False)\n",
    "lgbm_hyperparam_series.to_csv(\"../data/output/lgbm_hyperparam.csv\", header = False)"
   ]
  },
  {
   "cell_type": "markdown",
   "metadata": {},
   "source": [
    "# Read hyperparams from stored output"
   ]
  },
  {
   "cell_type": "code",
   "execution_count": 10,
   "metadata": {},
   "outputs": [
    {
     "name": "stderr",
     "output_type": "stream",
     "text": [
      "/home/kenneth/anaconda3/lib/python3.7/site-packages/pandas/core/series.py:4141: FutureWarning: from_csv is deprecated. Please use read_csv(...) instead. Note that some of the default arguments are different, so please refer to the documentation for from_csv when changing your function calls\n",
      "  infer_datetime_format=infer_datetime_format)\n"
     ]
    }
   ],
   "source": [
    "# Optional: Read in stored hyperparams. To be used when restart from offline\n",
    "lmlasso_hyperparam_series = pd.Series.from_csv(\"../data/output/lmlasso_hyperparam.csv\")\n",
    "\n",
    "lmridge_hyperparam_series = pd.Series.from_csv(\"../data/output/lmridge_hyperparam.csv\")\n",
    "\n",
    "rf_hyperparam_series = pd.Series.from_csv(\"../data/output/rf_hyperparam.csv\")\n",
    "\n",
    "xgb_hyperparam_series = pd.Series.from_csv(\"../data/output/xgb_hyperparam.csv\")\n",
    "\n",
    "lgbm_hyperparam_series = pd.Series.from_csv(\"../data/output/lgbm_hyperparam.csv\")"
   ]
  },
  {
   "cell_type": "code",
   "execution_count": 11,
   "metadata": {},
   "outputs": [
    {
     "data": {
      "text/plain": [
       "{'alpha': 0.012437367359671318}"
      ]
     },
     "execution_count": 11,
     "metadata": {},
     "output_type": "execute_result"
    }
   ],
   "source": [
    "lmlasso_hyperparam = dict()\n",
    "for i in lmlasso_hyperparam_series.index:\n",
    "    lmlasso_hyperparam[i] = lmlasso_hyperparam_series[i]\n",
    "\n",
    "lmlasso_hyperparam"
   ]
  },
  {
   "cell_type": "code",
   "execution_count": 12,
   "metadata": {},
   "outputs": [
    {
     "data": {
      "text/plain": [
       "{'alpha': 61.79340127008997}"
      ]
     },
     "execution_count": 12,
     "metadata": {},
     "output_type": "execute_result"
    }
   ],
   "source": [
    "lmridge_hyperparam = dict()\n",
    "for i in lmridge_hyperparam_series.index:\n",
    "    lmridge_hyperparam[i] = lmridge_hyperparam_series[i]\n",
    "\n",
    "lmridge_hyperparam"
   ]
  },
  {
   "cell_type": "code",
   "execution_count": 13,
   "metadata": {},
   "outputs": [
    {
     "data": {
      "text/plain": [
       "{'max_depth': 112, 'max_features': 13, 'n_estimators': 105}"
      ]
     },
     "execution_count": 13,
     "metadata": {},
     "output_type": "execute_result"
    }
   ],
   "source": [
    "rf_hyperparam = dict()\n",
    "for i in rf_hyperparam_series.index:\n",
    "    rf_hyperparam[i] = rf_hyperparam_series[i]\n",
    "\n",
    "rf_hyperparam"
   ]
  },
  {
   "cell_type": "code",
   "execution_count": 14,
   "metadata": {},
   "outputs": [
    {
     "data": {
      "text/plain": [
       "{'gamma': 13.241537120773089,\n",
       " 'learning_rate': 0.8453266130509627,\n",
       " 'max_depth': 21,\n",
       " 'n_estimators': 67,\n",
       " 'reg_alpha': 57.46494917796629,\n",
       " 'reg_lambda': 29.32489868699375,\n",
       " 'subsample': 0.4784716853167835}"
      ]
     },
     "execution_count": 14,
     "metadata": {},
     "output_type": "execute_result"
    }
   ],
   "source": [
    "xgb_hyperparam = dict()\n",
    "for i in xgb_hyperparam_series.index:\n",
    "    \n",
    "    # For integer hyperparams\n",
    "    if i == \"max_depth\" or i == \"n_estimators\" or i == \"max_features\":\n",
    "        xgb_hyperparam[i] = int(xgb_hyperparam_series[i])\n",
    "    # For float hyperparams\n",
    "    else:\n",
    "        xgb_hyperparam[i] = xgb_hyperparam_series[i]\n",
    "\n",
    "xgb_hyperparam"
   ]
  },
  {
   "cell_type": "code",
   "execution_count": 15,
   "metadata": {},
   "outputs": [
    {
     "data": {
      "text/plain": [
       "{'learning_rate': 0.41760498269787133,\n",
       " 'max_depth': 146,\n",
       " 'n_estimators': 10,\n",
       " 'reg_alpha': 30.233257263183976,\n",
       " 'reg_lambda': 14.675589081711305}"
      ]
     },
     "execution_count": 15,
     "metadata": {},
     "output_type": "execute_result"
    }
   ],
   "source": [
    "lgbm_hyperparam = dict()\n",
    "for i in lgbm_hyperparam_series.index:\n",
    "    \n",
    "    # For integer hyperparams\n",
    "    if i == \"max_depth\" or i == \"n_estimators\" or i == \"max_features\":\n",
    "        lgbm_hyperparam[i] = int(lgbm_hyperparam_series[i])\n",
    "    # For float hyperparams\n",
    "    else:\n",
    "        lgbm_hyperparam[i] = lgbm_hyperparam_series[i]\n",
    "\n",
    "lgbm_hyperparam"
   ]
  },
  {
   "cell_type": "code",
   "execution_count": 16,
   "metadata": {},
   "outputs": [],
   "source": [
    "models = [\"lm_lasso\", \"lm_ridge\", \"randomforest\", \"xgb\", \"lgbm\"]"
   ]
  },
  {
   "cell_type": "markdown",
   "metadata": {},
   "source": [
    "# Create models and score"
   ]
  },
  {
   "cell_type": "code",
   "execution_count": 29,
   "metadata": {},
   "outputs": [
    {
     "data": {
      "text/plain": [
       "Lasso(alpha=0.012437367359671318, copy_X=True, fit_intercept=True,\n",
       "      max_iter=1000, normalize=False, positive=False, precompute=False,\n",
       "      random_state=1, selection='cyclic', tol=0.0001, warm_start=False)"
      ]
     },
     "execution_count": 29,
     "metadata": {},
     "output_type": "execute_result"
    }
   ],
   "source": [
    "best_lasso = Lasso(random_state = 1).set_params(**lmlasso_hyperparam)\n",
    "best_lasso.fit(X_train_trans, y_train)"
   ]
  },
  {
   "cell_type": "code",
   "execution_count": 30,
   "metadata": {},
   "outputs": [
    {
     "data": {
      "text/plain": [
       "Ridge(alpha=61.79340127008997, copy_X=True, fit_intercept=True, max_iter=None,\n",
       "      normalize=False, random_state=1, solver='auto', tol=0.001)"
      ]
     },
     "execution_count": 30,
     "metadata": {},
     "output_type": "execute_result"
    }
   ],
   "source": [
    "best_ridge = Ridge(random_state = 1).set_params(**lmridge_hyperparam)\n",
    "best_ridge.fit(X_train_trans, y_train)"
   ]
  },
  {
   "cell_type": "code",
   "execution_count": 31,
   "metadata": {},
   "outputs": [
    {
     "data": {
      "text/plain": [
       "RandomForestRegressor(bootstrap=True, ccp_alpha=0.0, criterion='mse',\n",
       "                      max_depth=112, max_features=13, max_leaf_nodes=None,\n",
       "                      max_samples=None, min_impurity_decrease=0.0,\n",
       "                      min_impurity_split=None, min_samples_leaf=1,\n",
       "                      min_samples_split=2, min_weight_fraction_leaf=0.0,\n",
       "                      n_estimators=105, n_jobs=None, oob_score=False,\n",
       "                      random_state=1, verbose=0, warm_start=False)"
      ]
     },
     "execution_count": 31,
     "metadata": {},
     "output_type": "execute_result"
    }
   ],
   "source": [
    "best_rf = RandomForestRegressor(random_state = 1).set_params(**rf_hyperparam)\n",
    "best_rf.fit(X_train_trans, y_train)"
   ]
  },
  {
   "cell_type": "code",
   "execution_count": 32,
   "metadata": {},
   "outputs": [
    {
     "name": "stderr",
     "output_type": "stream",
     "text": [
      "/home/kenneth/anaconda3/lib/python3.7/site-packages/xgboost/core.py:587: FutureWarning: Series.base is deprecated and will be removed in a future version\n",
      "  if getattr(data, 'base', None) is not None and \\\n",
      "/home/kenneth/anaconda3/lib/python3.7/site-packages/xgboost/core.py:588: FutureWarning: Series.base is deprecated and will be removed in a future version\n",
      "  data.base is not None and isinstance(data, np.ndarray) \\\n"
     ]
    },
    {
     "name": "stdout",
     "output_type": "stream",
     "text": [
      "[10:32:30] WARNING: /workspace/src/objective/regression_obj.cu:152: reg:linear is now deprecated in favor of reg:squarederror.\n"
     ]
    },
    {
     "data": {
      "text/plain": [
       "XGBRegressor(base_score=0.5, booster='gbtree', colsample_bylevel=1,\n",
       "             colsample_bynode=1, colsample_bytree=1, gamma=13.241537120773089,\n",
       "             importance_type='gain', learning_rate=0.8453266130509627,\n",
       "             max_delta_step=0, max_depth=21, min_child_weight=1, missing=None,\n",
       "             n_estimators=67, n_jobs=1, nthread=None, objective='reg:linear',\n",
       "             random_state=1, reg_alpha=57.46494917796629,\n",
       "             reg_lambda=29.32489868699375, scale_pos_weight=1, seed=None,\n",
       "             silent=None, subsample=0.4784716853167835, verbosity=1)"
      ]
     },
     "execution_count": 32,
     "metadata": {},
     "output_type": "execute_result"
    }
   ],
   "source": [
    "best_xgb = xgb.XGBRegressor(random_state = 1).set_params(**xgb_hyperparam)\n",
    "best_xgb.fit(X_train_trans, y_train)"
   ]
  },
  {
   "cell_type": "code",
   "execution_count": 33,
   "metadata": {},
   "outputs": [
    {
     "data": {
      "text/plain": [
       "LGBMRegressor(boosting_type='gbdt', class_weight=None, colsample_bytree=1.0,\n",
       "              importance_type='split', learning_rate=0.41760498269787133,\n",
       "              max_depth=146, min_child_samples=20, min_child_weight=0.001,\n",
       "              min_split_gain=0.0, n_estimators=10, n_jobs=-1, num_leaves=31,\n",
       "              objective=None, random_state=1, reg_alpha=30.233257263183976,\n",
       "              reg_lambda=14.675589081711305, silent=True, subsample=1.0,\n",
       "              subsample_for_bin=200000, subsample_freq=0)"
      ]
     },
     "execution_count": 33,
     "metadata": {},
     "output_type": "execute_result"
    }
   ],
   "source": [
    "best_lgbm = lgbm.LGBMRegressor(random_state = 1).set_params(**lgbm_hyperparam)\n",
    "best_lgbm.fit(X_train_trans, y_train)"
   ]
  },
  {
   "cell_type": "markdown",
   "metadata": {},
   "source": [
    "# Test Data Preprocessing"
   ]
  },
  {
   "cell_type": "code",
   "execution_count": 34,
   "metadata": {},
   "outputs": [],
   "source": [
    "# Test set\n",
    "test_data  = pd.read_csv(\"../data/processed/test.csv\")\n",
    "\n",
    "# X_test = test_data.drop([\"G3\", \"G2\", \"G1\"], axis = 1)\n",
    "X_test = test_data.drop([\"G3\"], axis = 1)\n",
    "y_test = test_data[\"G3\"]"
   ]
  },
  {
   "cell_type": "code",
   "execution_count": 35,
   "metadata": {},
   "outputs": [],
   "source": [
    "# Convert to dataframe\n",
    "X_test_trans = pd.DataFrame(preprocessor.fit_transform(X_test),\n",
    "                            index = X_test.index,\n",
    "                             columns = (list(numeric_features) +\n",
    "                                       list(preprocessor.named_transformers_['ohe'].get_feature_names(categorical_features))))"
   ]
  },
  {
   "cell_type": "markdown",
   "metadata": {},
   "source": [
    "# Test Data Prediction"
   ]
  },
  {
   "cell_type": "code",
   "execution_count": 36,
   "metadata": {},
   "outputs": [
    {
     "data": {
      "text/html": [
       "<div>\n",
       "<style scoped>\n",
       "    .dataframe tbody tr th:only-of-type {\n",
       "        vertical-align: middle;\n",
       "    }\n",
       "\n",
       "    .dataframe tbody tr th {\n",
       "        vertical-align: top;\n",
       "    }\n",
       "\n",
       "    .dataframe thead th {\n",
       "        text-align: right;\n",
       "    }\n",
       "</style>\n",
       "<table border=\"1\" class=\"dataframe\">\n",
       "  <thead>\n",
       "    <tr style=\"text-align: right;\">\n",
       "      <th></th>\n",
       "      <th>test_rmse</th>\n",
       "    </tr>\n",
       "  </thead>\n",
       "  <tbody>\n",
       "    <tr>\n",
       "      <th>randomforest</th>\n",
       "      <td>2.417248</td>\n",
       "    </tr>\n",
       "    <tr>\n",
       "      <th>xgb</th>\n",
       "      <td>2.452847</td>\n",
       "    </tr>\n",
       "    <tr>\n",
       "      <th>lm_ridge</th>\n",
       "      <td>2.481202</td>\n",
       "    </tr>\n",
       "    <tr>\n",
       "      <th>lm_lasso</th>\n",
       "      <td>2.483605</td>\n",
       "    </tr>\n",
       "    <tr>\n",
       "      <th>lgbm</th>\n",
       "      <td>2.577540</td>\n",
       "    </tr>\n",
       "  </tbody>\n",
       "</table>\n",
       "</div>"
      ],
      "text/plain": [
       "              test_rmse\n",
       "randomforest   2.417248\n",
       "xgb            2.452847\n",
       "lm_ridge       2.481202\n",
       "lm_lasso       2.483605\n",
       "lgbm           2.577540"
      ]
     },
     "execution_count": 36,
     "metadata": {},
     "output_type": "execute_result"
    }
   ],
   "source": [
    "test_rmse = []\n",
    "test_rmse.append(np.sqrt(mean_squared_error(y_test, best_lasso.predict(X_test_trans))))\n",
    "test_rmse.append(np.sqrt(mean_squared_error(y_test, best_ridge.predict(X_test_trans))))\n",
    "test_rmse.append(np.sqrt(mean_squared_error(y_test, best_rf.predict(X_test_trans))))\n",
    "test_rmse.append(np.sqrt(mean_squared_error(y_test, best_xgb.predict(X_test_trans))))\n",
    "test_rmse.append(np.sqrt(mean_squared_error(y_test, best_lgbm.predict(X_test_trans))))\n",
    "\n",
    "# Convert to Dataframe\n",
    "test_rmse = pd.DataFrame(test_rmse, index= models, columns = [\"test_rmse\"])\n",
    "test_rmse = test_rmse.sort_values(by=\"test_rmse\", ascending = True)\n",
    "test_rmse"
   ]
  },
  {
   "cell_type": "code",
   "execution_count": 37,
   "metadata": {},
   "outputs": [],
   "source": [
    "# Create dictionary of all models\n",
    "models_dict = dict()\n",
    "models_dict[\"lm_lasso\"] = best_lasso\n",
    "models_dict[\"lm_ridge\"] = best_ridge\n",
    "models_dict[\"randomforest\"] = best_rf\n",
    "models_dict[\"xgb\"] = best_xgb\n",
    "models_dict[\"lgbm\"] = best_lgbm"
   ]
  },
  {
   "cell_type": "code",
   "execution_count": 38,
   "metadata": {},
   "outputs": [],
   "source": [
    "best_model = models_dict[list(test_rmse.head(1).index)[0]]"
   ]
  },
  {
   "cell_type": "code",
   "execution_count": 39,
   "metadata": {},
   "outputs": [
    {
     "name": "stdout",
     "output_type": "stream",
     "text": [
      "              test_rmse\n",
      "randomforest   2.417248\n"
     ]
    }
   ],
   "source": [
    "# Best model\n",
    "print(test_rmse.head(1))"
   ]
  },
  {
   "cell_type": "code",
   "execution_count": 40,
   "metadata": {},
   "outputs": [],
   "source": [
    "# If model is linear regression model, use \"coef_\" to extract weights\n",
    "if best_model ==best_lasso or best_model == best_ridge:\n",
    "    feat_importance = pd.DataFrame(best_model.coef_, index = X_train_trans.columns, columns = [\"Importance\"])\n",
    "\n",
    "# If model is tree based, use \"feature_importances\" to extract importances    \n",
    "else: \n",
    "    feat_importance = pd.DataFrame(best_model.feature_importances_, index = X_train_trans.columns, columns = [\"Importance\"])"
   ]
  },
  {
   "cell_type": "code",
   "execution_count": 41,
   "metadata": {},
   "outputs": [],
   "source": [
    "feat_importance = feat_importance.sort_values(by = \"Importance\", ascending = False).reset_index()"
   ]
  },
  {
   "cell_type": "code",
   "execution_count": 42,
   "metadata": {},
   "outputs": [],
   "source": [
    "feat_importance.to_csv(\"../data/output/feat_importance.csv\")"
   ]
  },
  {
   "cell_type": "code",
   "execution_count": 43,
   "metadata": {},
   "outputs": [
    {
     "data": {
      "text/html": [
       "<div>\n",
       "<style scoped>\n",
       "    .dataframe tbody tr th:only-of-type {\n",
       "        vertical-align: middle;\n",
       "    }\n",
       "\n",
       "    .dataframe tbody tr th {\n",
       "        vertical-align: top;\n",
       "    }\n",
       "\n",
       "    .dataframe thead th {\n",
       "        text-align: right;\n",
       "    }\n",
       "</style>\n",
       "<table border=\"1\" class=\"dataframe\">\n",
       "  <thead>\n",
       "    <tr style=\"text-align: right;\">\n",
       "      <th></th>\n",
       "      <th>index</th>\n",
       "      <th>Importance</th>\n",
       "    </tr>\n",
       "  </thead>\n",
       "  <tbody>\n",
       "    <tr>\n",
       "      <th>0</th>\n",
       "      <td>failures</td>\n",
       "      <td>0.140053</td>\n",
       "    </tr>\n",
       "    <tr>\n",
       "      <th>1</th>\n",
       "      <td>absences</td>\n",
       "      <td>0.064478</td>\n",
       "    </tr>\n",
       "    <tr>\n",
       "      <th>2</th>\n",
       "      <td>age</td>\n",
       "      <td>0.047967</td>\n",
       "    </tr>\n",
       "    <tr>\n",
       "      <th>3</th>\n",
       "      <td>Walc</td>\n",
       "      <td>0.047830</td>\n",
       "    </tr>\n",
       "    <tr>\n",
       "      <th>4</th>\n",
       "      <td>school_MS</td>\n",
       "      <td>0.047253</td>\n",
       "    </tr>\n",
       "    <tr>\n",
       "      <th>5</th>\n",
       "      <td>goout</td>\n",
       "      <td>0.042354</td>\n",
       "    </tr>\n",
       "    <tr>\n",
       "      <th>6</th>\n",
       "      <td>Medu</td>\n",
       "      <td>0.041735</td>\n",
       "    </tr>\n",
       "    <tr>\n",
       "      <th>7</th>\n",
       "      <td>Dalc</td>\n",
       "      <td>0.040815</td>\n",
       "    </tr>\n",
       "    <tr>\n",
       "      <th>8</th>\n",
       "      <td>Fedu</td>\n",
       "      <td>0.039364</td>\n",
       "    </tr>\n",
       "    <tr>\n",
       "      <th>9</th>\n",
       "      <td>health</td>\n",
       "      <td>0.039161</td>\n",
       "    </tr>\n",
       "    <tr>\n",
       "      <th>10</th>\n",
       "      <td>studytime</td>\n",
       "      <td>0.038153</td>\n",
       "    </tr>\n",
       "    <tr>\n",
       "      <th>11</th>\n",
       "      <td>higher_yes</td>\n",
       "      <td>0.037829</td>\n",
       "    </tr>\n",
       "    <tr>\n",
       "      <th>12</th>\n",
       "      <td>freetime</td>\n",
       "      <td>0.035279</td>\n",
       "    </tr>\n",
       "    <tr>\n",
       "      <th>13</th>\n",
       "      <td>famrel</td>\n",
       "      <td>0.033166</td>\n",
       "    </tr>\n",
       "    <tr>\n",
       "      <th>14</th>\n",
       "      <td>traveltime</td>\n",
       "      <td>0.021928</td>\n",
       "    </tr>\n",
       "    <tr>\n",
       "      <th>15</th>\n",
       "      <td>address_U</td>\n",
       "      <td>0.019824</td>\n",
       "    </tr>\n",
       "    <tr>\n",
       "      <th>16</th>\n",
       "      <td>sex_M</td>\n",
       "      <td>0.017683</td>\n",
       "    </tr>\n",
       "    <tr>\n",
       "      <th>17</th>\n",
       "      <td>famsup_yes</td>\n",
       "      <td>0.017482</td>\n",
       "    </tr>\n",
       "    <tr>\n",
       "      <th>18</th>\n",
       "      <td>schoolsup_yes</td>\n",
       "      <td>0.016483</td>\n",
       "    </tr>\n",
       "    <tr>\n",
       "      <th>19</th>\n",
       "      <td>reason_other</td>\n",
       "      <td>0.015914</td>\n",
       "    </tr>\n",
       "    <tr>\n",
       "      <th>20</th>\n",
       "      <td>nursery_yes</td>\n",
       "      <td>0.015035</td>\n",
       "    </tr>\n",
       "    <tr>\n",
       "      <th>21</th>\n",
       "      <td>reason_reputation</td>\n",
       "      <td>0.014276</td>\n",
       "    </tr>\n",
       "    <tr>\n",
       "      <th>22</th>\n",
       "      <td>Mjob_teacher</td>\n",
       "      <td>0.013911</td>\n",
       "    </tr>\n",
       "    <tr>\n",
       "      <th>23</th>\n",
       "      <td>internet_yes</td>\n",
       "      <td>0.013538</td>\n",
       "    </tr>\n",
       "    <tr>\n",
       "      <th>24</th>\n",
       "      <td>romantic_yes</td>\n",
       "      <td>0.013398</td>\n",
       "    </tr>\n",
       "    <tr>\n",
       "      <th>25</th>\n",
       "      <td>activities_yes</td>\n",
       "      <td>0.013022</td>\n",
       "    </tr>\n",
       "    <tr>\n",
       "      <th>26</th>\n",
       "      <td>famsize_LE3</td>\n",
       "      <td>0.012843</td>\n",
       "    </tr>\n",
       "    <tr>\n",
       "      <th>27</th>\n",
       "      <td>Mjob_other</td>\n",
       "      <td>0.011789</td>\n",
       "    </tr>\n",
       "    <tr>\n",
       "      <th>28</th>\n",
       "      <td>Fjob_services</td>\n",
       "      <td>0.011708</td>\n",
       "    </tr>\n",
       "    <tr>\n",
       "      <th>29</th>\n",
       "      <td>reason_home</td>\n",
       "      <td>0.011391</td>\n",
       "    </tr>\n",
       "    <tr>\n",
       "      <th>30</th>\n",
       "      <td>Fjob_other</td>\n",
       "      <td>0.010993</td>\n",
       "    </tr>\n",
       "    <tr>\n",
       "      <th>31</th>\n",
       "      <td>guardian_mother</td>\n",
       "      <td>0.010707</td>\n",
       "    </tr>\n",
       "    <tr>\n",
       "      <th>32</th>\n",
       "      <td>Fjob_teacher</td>\n",
       "      <td>0.010513</td>\n",
       "    </tr>\n",
       "    <tr>\n",
       "      <th>33</th>\n",
       "      <td>Mjob_services</td>\n",
       "      <td>0.009089</td>\n",
       "    </tr>\n",
       "    <tr>\n",
       "      <th>34</th>\n",
       "      <td>Pstatus_T</td>\n",
       "      <td>0.008302</td>\n",
       "    </tr>\n",
       "    <tr>\n",
       "      <th>35</th>\n",
       "      <td>Mjob_health</td>\n",
       "      <td>0.006071</td>\n",
       "    </tr>\n",
       "    <tr>\n",
       "      <th>36</th>\n",
       "      <td>paid_yes</td>\n",
       "      <td>0.004125</td>\n",
       "    </tr>\n",
       "    <tr>\n",
       "      <th>37</th>\n",
       "      <td>guardian_other</td>\n",
       "      <td>0.002553</td>\n",
       "    </tr>\n",
       "    <tr>\n",
       "      <th>38</th>\n",
       "      <td>Fjob_health</td>\n",
       "      <td>0.001987</td>\n",
       "    </tr>\n",
       "  </tbody>\n",
       "</table>\n",
       "</div>"
      ],
      "text/plain": [
       "                index  Importance\n",
       "0            failures    0.140053\n",
       "1            absences    0.064478\n",
       "2                 age    0.047967\n",
       "3                Walc    0.047830\n",
       "4           school_MS    0.047253\n",
       "5               goout    0.042354\n",
       "6                Medu    0.041735\n",
       "7                Dalc    0.040815\n",
       "8                Fedu    0.039364\n",
       "9              health    0.039161\n",
       "10          studytime    0.038153\n",
       "11         higher_yes    0.037829\n",
       "12           freetime    0.035279\n",
       "13             famrel    0.033166\n",
       "14         traveltime    0.021928\n",
       "15          address_U    0.019824\n",
       "16              sex_M    0.017683\n",
       "17         famsup_yes    0.017482\n",
       "18      schoolsup_yes    0.016483\n",
       "19       reason_other    0.015914\n",
       "20        nursery_yes    0.015035\n",
       "21  reason_reputation    0.014276\n",
       "22       Mjob_teacher    0.013911\n",
       "23       internet_yes    0.013538\n",
       "24       romantic_yes    0.013398\n",
       "25     activities_yes    0.013022\n",
       "26        famsize_LE3    0.012843\n",
       "27         Mjob_other    0.011789\n",
       "28      Fjob_services    0.011708\n",
       "29        reason_home    0.011391\n",
       "30         Fjob_other    0.010993\n",
       "31    guardian_mother    0.010707\n",
       "32       Fjob_teacher    0.010513\n",
       "33      Mjob_services    0.009089\n",
       "34          Pstatus_T    0.008302\n",
       "35        Mjob_health    0.006071\n",
       "36           paid_yes    0.004125\n",
       "37     guardian_other    0.002553\n",
       "38        Fjob_health    0.001987"
      ]
     },
     "execution_count": 43,
     "metadata": {},
     "output_type": "execute_result"
    }
   ],
   "source": [
    "feat_importance"
   ]
  },
  {
   "cell_type": "code",
   "execution_count": 112,
   "metadata": {},
   "outputs": [],
   "source": [
    "# https://github.com/nipunbatra/50-ggplot-python/blob/master/Altair/DivergingLollipop.ipynb\n",
    "import altair as alt\n",
    "\n",
    "c1 = alt.Chart(feat_importance.head(10)).mark_bar(color='pink', size = 5).encode(\n",
    "    y=alt.Y('index', sort=alt.EncodingSortField(order='descending', field='Importance'), title = None),\n",
    "    x=alt.X('Importance')\n",
    ")"
   ]
  },
  {
   "cell_type": "code",
   "execution_count": 113,
   "metadata": {},
   "outputs": [],
   "source": [
    "c2 = alt.Chart(feat_importance.head(10)).mark_circle(color='lightblue', size=1200).encode(\n",
    "    y=alt.Y('index', sort=alt.EncodingSortField(order='descending', field='Importance')),\n",
    "    x=alt.X('Importance' ), \n",
    "    text='Importance'\n",
    ")"
   ]
  },
  {
   "cell_type": "code",
   "execution_count": 114,
   "metadata": {},
   "outputs": [],
   "source": [
    "c3 = alt.Chart(feat_importance.head(10)).mark_text(color='black').encode(\n",
    "    y=alt.Y('index', sort=alt.EncodingSortField(order='descending', field='Importance')),\n",
    "    x=alt.X('Importance' ), \n",
    "    text='Importance'\n",
    ")"
   ]
  },
  {
   "cell_type": "code",
   "execution_count": 116,
   "metadata": {},
   "outputs": [
    {
     "data": {
      "application/vnd.vegalite.v3+json": {
       "$schema": "https://vega.github.io/schema/vega-lite/v3.4.0.json",
       "config": {
        "mark": {
         "tooltip": null
        },
        "numberFormat": "0.4f",
        "view": {
         "height": 300,
         "width": 400
        }
       },
       "datasets": {
        "data-769176b103472f6ab10bd2d34d55b47b": [
         {
          "Importance": 0.14005318096629252,
          "index": "failures"
         },
         {
          "Importance": 0.06447837220754331,
          "index": "absences"
         },
         {
          "Importance": 0.047966763320496916,
          "index": "age"
         },
         {
          "Importance": 0.04783035099422824,
          "index": "Walc"
         },
         {
          "Importance": 0.04725273566126272,
          "index": "school_MS"
         },
         {
          "Importance": 0.042354218850399354,
          "index": "goout"
         },
         {
          "Importance": 0.04173479523867956,
          "index": "Medu"
         },
         {
          "Importance": 0.04081505658022649,
          "index": "Dalc"
         },
         {
          "Importance": 0.03936371608778283,
          "index": "Fedu"
         },
         {
          "Importance": 0.03916074515365443,
          "index": "health"
         }
        ]
       },
       "height": 400,
       "layer": [
        {
         "data": {
          "name": "data-769176b103472f6ab10bd2d34d55b47b"
         },
         "encoding": {
          "x": {
           "field": "Importance",
           "type": "quantitative"
          },
          "y": {
           "field": "index",
           "sort": {
            "field": "Importance",
            "order": "descending"
           },
           "title": null,
           "type": "nominal"
          }
         },
         "mark": {
          "color": "pink",
          "size": 5,
          "type": "bar"
         }
        },
        {
         "data": {
          "name": "data-769176b103472f6ab10bd2d34d55b47b"
         },
         "encoding": {
          "text": {
           "field": "Importance",
           "type": "quantitative"
          },
          "x": {
           "field": "Importance",
           "type": "quantitative"
          },
          "y": {
           "field": "index",
           "sort": {
            "field": "Importance",
            "order": "descending"
           },
           "type": "nominal"
          }
         },
         "mark": {
          "color": "lightblue",
          "size": 1200,
          "type": "circle"
         }
        },
        {
         "data": {
          "name": "data-769176b103472f6ab10bd2d34d55b47b"
         },
         "encoding": {
          "text": {
           "field": "Importance",
           "type": "quantitative"
          },
          "x": {
           "field": "Importance",
           "type": "quantitative"
          },
          "y": {
           "field": "index",
           "sort": {
            "field": "Importance",
            "order": "descending"
           },
           "type": "nominal"
          }
         },
         "mark": {
          "color": "black",
          "type": "text"
         }
        }
       ],
       "title": "Top 10 Features Ranked According to Importance (randomforest)",
       "width": 800
      },
      "image/png": "[encoded data removed]",
      "text/plain": [
       "<VegaLite 3 object>\n",
       "\n",
       "If you see this message, it means the renderer has not been properly enabled\n",
       "for the frontend that you are using. For more information, see\n",
       "https://altair-viz.github.io/user_guide/troubleshooting.html\n"
      ]
     },
     "execution_count": 116,
     "metadata": {},
     "output_type": "execute_result"
    }
   ],
   "source": [
    "chart = alt.layer(c1,c2,c3)\n",
    "chart.configure(\n",
    "    numberFormat=\"0.4f\"\n",
    ").properties(\n",
    "    title = \"Top 10 Features Ranked According to Importance (\"+list(test_rmse.head(1).index)[0]+\")\",\n",
    "    width = 800,\n",
    "    height = 400\n",
    ")"
   ]
  },
  {
   "cell_type": "code",
   "execution_count": 102,
   "metadata": {},
   "outputs": [],
   "source": [
    "chart.save(\"../img/ranked_features.png\")"
   ]
  },
  {
   "cell_type": "code",
   "execution_count": 108,
   "metadata": {},
   "outputs": [],
   "source": [
    "abc = \"./onetwothree/\"\n",
    "qwe = \"./one\""
   ]
  },
  {
   "cell_type": "code",
   "execution_count": 107,
   "metadata": {},
   "outputs": [
    {
     "data": {
      "text/plain": [
       "'/'"
      ]
     },
     "execution_count": 107,
     "metadata": {},
     "output_type": "execute_result"
    }
   ],
   "source": [
    "abc[-1]"
   ]
  },
  {
   "cell_type": "code",
   "execution_count": 110,
   "metadata": {},
   "outputs": [
    {
     "data": {
      "text/plain": [
       "True"
      ]
     },
     "execution_count": 110,
     "metadata": {},
     "output_type": "execute_result"
    }
   ],
   "source": [
    "qwe[-1] != \"/\""
   ]
  },
  {
   "cell_type": "code",
   "execution_count": 111,
   "metadata": {},
   "outputs": [
    {
     "data": {
      "text/plain": [
       "'ee/'"
      ]
     },
     "execution_count": 111,
     "metadata": {},
     "output_type": "execute_result"
    }
   ],
   "source": [
    "abc[-3:]"
   ]
  },
  {
   "cell_type": "code",
   "execution_count": null,
   "metadata": {},
   "outputs": [],
   "source": []
  }
 ],
 "metadata": {
  "kernelspec": {
   "display_name": "Python 3",
   "language": "python",
   "name": "python3"
  },
  "language_info": {
   "codemirror_mode": {
    "name": "ipython",
    "version": 3
   },
   "file_extension": ".py",
   "mimetype": "text/x-python",
   "name": "python",
   "nbconvert_exporter": "python",
   "pygments_lexer": "ipython3",
   "version": "3.7.3"
  }
 },
 "nbformat": 4,
 "nbformat_minor": 4
}
